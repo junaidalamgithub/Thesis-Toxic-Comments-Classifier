{
  "nbformat": 4,
  "nbformat_minor": 0,
  "metadata": {
    "colab": {
      "provenance": [],
      "machine_shape": "hm"
    },
    "kernelspec": {
      "name": "python3",
      "display_name": "Python 3"
    },
    "language_info": {
      "name": "python"
    },
    "gpuClass": "standard"
  },
  "cells": [
    {
      "cell_type": "markdown",
      "source": [
        "### MultiLabel Classifier for Toxic Comments Classifier"
      ],
      "metadata": {
        "id": "gPG5gSbwaucb"
      }
    },
    {
      "cell_type": "markdown",
      "source": [
        "Author: Md Junaid Alam"
      ],
      "metadata": {
        "id": "Zod912tfa2w8"
      }
    },
    {
      "cell_type": "code",
      "source": [
        "!pip install scikit-multilearn"
      ],
      "metadata": {
        "colab": {
          "base_uri": "https://localhost:8080/"
        },
        "id": "3j-QvQumH_zN",
        "outputId": "66ac2935-b696-452a-d865-f1ff6d526feb"
      },
      "execution_count": 1,
      "outputs": [
        {
          "output_type": "stream",
          "name": "stdout",
          "text": [
            "Looking in indexes: https://pypi.org/simple, https://us-python.pkg.dev/colab-wheels/public/simple/\n",
            "Requirement already satisfied: scikit-multilearn in /usr/local/lib/python3.8/dist-packages (0.2.0)\n"
          ]
        }
      ]
    },
    {
      "cell_type": "code",
      "source": [
        "!pip install neattext"
      ],
      "metadata": {
        "colab": {
          "base_uri": "https://localhost:8080/"
        },
        "id": "Vw8w_enlOAYi",
        "outputId": "1ada46c8-6b95-4816-9ac8-7d98cbbb26a1"
      },
      "execution_count": 2,
      "outputs": [
        {
          "output_type": "stream",
          "name": "stdout",
          "text": [
            "Looking in indexes: https://pypi.org/simple, https://us-python.pkg.dev/colab-wheels/public/simple/\n",
            "Requirement already satisfied: neattext in /usr/local/lib/python3.8/dist-packages (0.1.3)\n"
          ]
        }
      ]
    },
    {
      "cell_type": "code",
      "source": [
        "# Import nltk libraries and download\n",
        "import nltk\n",
        "nltk.download('stopwords')\n",
        "nltk.download('wordnet')\n",
        "nltk.download('omw-1.4')"
      ],
      "metadata": {
        "colab": {
          "base_uri": "https://localhost:8080/"
        },
        "id": "OsMrikkttew_",
        "outputId": "cc3cd096-46c9-4cbc-c622-5763b00663c7"
      },
      "execution_count": 3,
      "outputs": [
        {
          "output_type": "stream",
          "name": "stderr",
          "text": [
            "[nltk_data] Downloading package stopwords to /root/nltk_data...\n",
            "[nltk_data]   Package stopwords is already up-to-date!\n",
            "[nltk_data] Downloading package wordnet to /root/nltk_data...\n",
            "[nltk_data]   Package wordnet is already up-to-date!\n",
            "[nltk_data] Downloading package omw-1.4 to /root/nltk_data...\n",
            "[nltk_data]   Package omw-1.4 is already up-to-date!\n"
          ]
        },
        {
          "output_type": "execute_result",
          "data": {
            "text/plain": [
              "True"
            ]
          },
          "metadata": {},
          "execution_count": 3
        }
      ]
    },
    {
      "cell_type": "code",
      "execution_count": 4,
      "metadata": {
        "id": "vY1wlyTWHjz2"
      },
      "outputs": [],
      "source": [
        "import pandas as pd\n",
        "import numpy as np\n",
        "import matplotlib.pyplot as plt\n",
        "import seaborn as sns\n",
        "\n",
        "from sklearn.linear_model import LogisticRegression\n",
        "from sklearn.neighbors import KNeighborsClassifier\n",
        "from sklearn.tree import DecisionTreeClassifier\n",
        "from sklearn.naive_bayes import GaussianNB,MultinomialNB\n",
        "from sklearn.metrics import accuracy_score,hamming_loss,classification_report\n",
        "\n",
        "from sklearn.model_selection import train_test_split\n",
        "from sklearn.feature_extraction.text import TfidfVectorizer\n",
        "\n",
        "from skmultilearn.problem_transform import BinaryRelevance\n",
        "from skmultilearn.problem_transform import ClassifierChain\n",
        "from skmultilearn.problem_transform import LabelPowerset\n",
        "from skmultilearn.adapt import MLkNN\n",
        "\n",
        "import re\n",
        "from nltk.stem.wordnet import WordNetLemmatizer \n",
        "from nltk.tokenize import word_tokenize, TweetTokenizer\n",
        "from nltk.corpus import stopwords\n",
        "\n",
        "import joblib"
      ]
    },
    {
      "cell_type": "code",
      "source": [
        "lem = WordNetLemmatizer()\n",
        "tokenizer=TweetTokenizer()\n",
        "eng_stopwords = set(stopwords.words(\"english\"))"
      ],
      "metadata": {
        "id": "Oh9ctK0Lsqb4"
      },
      "execution_count": 5,
      "outputs": []
    },
    {
      "cell_type": "code",
      "source": [
        "# Download the train.csv from the google drive by providing its Unique ID\n",
        "! gdown 1hdJ8HxCOeS7ZCtCGPLNfKoWt4h_8qJUV"
      ],
      "metadata": {
        "colab": {
          "base_uri": "https://localhost:8080/"
        },
        "id": "q7pWtgEZIej1",
        "outputId": "c1f6729f-ed54-4726-ab20-e14fb1908c3f"
      },
      "execution_count": 6,
      "outputs": [
        {
          "output_type": "stream",
          "name": "stdout",
          "text": [
            "Downloading...\n",
            "From: https://drive.google.com/uc?id=1hdJ8HxCOeS7ZCtCGPLNfKoWt4h_8qJUV\n",
            "To: /content/train.csv\n",
            "100% 68.8M/68.8M [00:00<00:00, 279MB/s]\n"
          ]
        }
      ]
    },
    {
      "cell_type": "code",
      "source": [
        "# Load Dataset\n",
        "df = pd.read_csv(\"/content/train.csv\")"
      ],
      "metadata": {
        "id": "NS6slziXIKap"
      },
      "execution_count": 7,
      "outputs": []
    },
    {
      "cell_type": "code",
      "source": [
        "df.sample(10)"
      ],
      "metadata": {
        "colab": {
          "base_uri": "https://localhost:8080/",
          "height": 363
        },
        "id": "e8TNgDp8Infq",
        "outputId": "09d3bb75-500f-49ff-931f-0f12e2c87bdd"
      },
      "execution_count": 8,
      "outputs": [
        {
          "output_type": "execute_result",
          "data": {
            "text/plain": [
              "                      id                                       comment_text  \\\n",
              "52800   8d2529f5f496ba22  \"\\n\\n Demented Cartoon Movie \\n\\nYes I have, b...   \n",
              "133029  c7b17cb1acde86ee                          . I'm sure you meant well   \n",
              "134081  cd170abd27edc660  WikiProject Alternative music September 2007 N...   \n",
              "89875   f070ac124550ea32  Yer, but its also based on the size of the mar...   \n",
              "49885   8564468984d81f80  Let us keep it as Wiki Conference India. Each ...   \n",
              "149093  56f19bcf42c7fcb3  Theresa, I would urge caution to the torches a...   \n",
              "19486   33734602a869ce61  . If you live 3,000 miles away from Karyn's ap...   \n",
              "11821   1f43b3a65d205afe  How can my comment on my own talk page WP:DISR...   \n",
              "132804  c688a6d0d47e4cda  \"\\nFrom Wikipedia:MOSQUOTE:\\n\"\"A quotation is ...   \n",
              "14366   25f3d4d49e64ff85  Fantastic idea! Since Family Guy uses music so...   \n",
              "\n",
              "        toxic  severe_toxic  obscene  threat  insult  identity_hate  \n",
              "52800       0             0        0       0       0              0  \n",
              "133029      0             0        0       0       0              0  \n",
              "134081      0             0        0       0       0              0  \n",
              "89875       1             0        0       0       0              0  \n",
              "49885       0             0        0       0       0              0  \n",
              "149093      0             0        0       0       0              0  \n",
              "19486       0             0        0       0       0              0  \n",
              "11821       0             0        0       0       0              0  \n",
              "132804      0             0        0       0       0              0  \n",
              "14366       0             0        0       0       0              0  "
            ],
            "text/html": [
              "\n",
              "  <div id=\"df-760e7696-c6d2-4f55-a0ad-1951e9c5912a\">\n",
              "    <div class=\"colab-df-container\">\n",
              "      <div>\n",
              "<style scoped>\n",
              "    .dataframe tbody tr th:only-of-type {\n",
              "        vertical-align: middle;\n",
              "    }\n",
              "\n",
              "    .dataframe tbody tr th {\n",
              "        vertical-align: top;\n",
              "    }\n",
              "\n",
              "    .dataframe thead th {\n",
              "        text-align: right;\n",
              "    }\n",
              "</style>\n",
              "<table border=\"1\" class=\"dataframe\">\n",
              "  <thead>\n",
              "    <tr style=\"text-align: right;\">\n",
              "      <th></th>\n",
              "      <th>id</th>\n",
              "      <th>comment_text</th>\n",
              "      <th>toxic</th>\n",
              "      <th>severe_toxic</th>\n",
              "      <th>obscene</th>\n",
              "      <th>threat</th>\n",
              "      <th>insult</th>\n",
              "      <th>identity_hate</th>\n",
              "    </tr>\n",
              "  </thead>\n",
              "  <tbody>\n",
              "    <tr>\n",
              "      <th>52800</th>\n",
              "      <td>8d2529f5f496ba22</td>\n",
              "      <td>\"\\n\\n Demented Cartoon Movie \\n\\nYes I have, b...</td>\n",
              "      <td>0</td>\n",
              "      <td>0</td>\n",
              "      <td>0</td>\n",
              "      <td>0</td>\n",
              "      <td>0</td>\n",
              "      <td>0</td>\n",
              "    </tr>\n",
              "    <tr>\n",
              "      <th>133029</th>\n",
              "      <td>c7b17cb1acde86ee</td>\n",
              "      <td>. I'm sure you meant well</td>\n",
              "      <td>0</td>\n",
              "      <td>0</td>\n",
              "      <td>0</td>\n",
              "      <td>0</td>\n",
              "      <td>0</td>\n",
              "      <td>0</td>\n",
              "    </tr>\n",
              "    <tr>\n",
              "      <th>134081</th>\n",
              "      <td>cd170abd27edc660</td>\n",
              "      <td>WikiProject Alternative music September 2007 N...</td>\n",
              "      <td>0</td>\n",
              "      <td>0</td>\n",
              "      <td>0</td>\n",
              "      <td>0</td>\n",
              "      <td>0</td>\n",
              "      <td>0</td>\n",
              "    </tr>\n",
              "    <tr>\n",
              "      <th>89875</th>\n",
              "      <td>f070ac124550ea32</td>\n",
              "      <td>Yer, but its also based on the size of the mar...</td>\n",
              "      <td>1</td>\n",
              "      <td>0</td>\n",
              "      <td>0</td>\n",
              "      <td>0</td>\n",
              "      <td>0</td>\n",
              "      <td>0</td>\n",
              "    </tr>\n",
              "    <tr>\n",
              "      <th>49885</th>\n",
              "      <td>8564468984d81f80</td>\n",
              "      <td>Let us keep it as Wiki Conference India. Each ...</td>\n",
              "      <td>0</td>\n",
              "      <td>0</td>\n",
              "      <td>0</td>\n",
              "      <td>0</td>\n",
              "      <td>0</td>\n",
              "      <td>0</td>\n",
              "    </tr>\n",
              "    <tr>\n",
              "      <th>149093</th>\n",
              "      <td>56f19bcf42c7fcb3</td>\n",
              "      <td>Theresa, I would urge caution to the torches a...</td>\n",
              "      <td>0</td>\n",
              "      <td>0</td>\n",
              "      <td>0</td>\n",
              "      <td>0</td>\n",
              "      <td>0</td>\n",
              "      <td>0</td>\n",
              "    </tr>\n",
              "    <tr>\n",
              "      <th>19486</th>\n",
              "      <td>33734602a869ce61</td>\n",
              "      <td>. If you live 3,000 miles away from Karyn's ap...</td>\n",
              "      <td>0</td>\n",
              "      <td>0</td>\n",
              "      <td>0</td>\n",
              "      <td>0</td>\n",
              "      <td>0</td>\n",
              "      <td>0</td>\n",
              "    </tr>\n",
              "    <tr>\n",
              "      <th>11821</th>\n",
              "      <td>1f43b3a65d205afe</td>\n",
              "      <td>How can my comment on my own talk page WP:DISR...</td>\n",
              "      <td>0</td>\n",
              "      <td>0</td>\n",
              "      <td>0</td>\n",
              "      <td>0</td>\n",
              "      <td>0</td>\n",
              "      <td>0</td>\n",
              "    </tr>\n",
              "    <tr>\n",
              "      <th>132804</th>\n",
              "      <td>c688a6d0d47e4cda</td>\n",
              "      <td>\"\\nFrom Wikipedia:MOSQUOTE:\\n\"\"A quotation is ...</td>\n",
              "      <td>0</td>\n",
              "      <td>0</td>\n",
              "      <td>0</td>\n",
              "      <td>0</td>\n",
              "      <td>0</td>\n",
              "      <td>0</td>\n",
              "    </tr>\n",
              "    <tr>\n",
              "      <th>14366</th>\n",
              "      <td>25f3d4d49e64ff85</td>\n",
              "      <td>Fantastic idea! Since Family Guy uses music so...</td>\n",
              "      <td>0</td>\n",
              "      <td>0</td>\n",
              "      <td>0</td>\n",
              "      <td>0</td>\n",
              "      <td>0</td>\n",
              "      <td>0</td>\n",
              "    </tr>\n",
              "  </tbody>\n",
              "</table>\n",
              "</div>\n",
              "      <button class=\"colab-df-convert\" onclick=\"convertToInteractive('df-760e7696-c6d2-4f55-a0ad-1951e9c5912a')\"\n",
              "              title=\"Convert this dataframe to an interactive table.\"\n",
              "              style=\"display:none;\">\n",
              "        \n",
              "  <svg xmlns=\"http://www.w3.org/2000/svg\" height=\"24px\"viewBox=\"0 0 24 24\"\n",
              "       width=\"24px\">\n",
              "    <path d=\"M0 0h24v24H0V0z\" fill=\"none\"/>\n",
              "    <path d=\"M18.56 5.44l.94 2.06.94-2.06 2.06-.94-2.06-.94-.94-2.06-.94 2.06-2.06.94zm-11 1L8.5 8.5l.94-2.06 2.06-.94-2.06-.94L8.5 2.5l-.94 2.06-2.06.94zm10 10l.94 2.06.94-2.06 2.06-.94-2.06-.94-.94-2.06-.94 2.06-2.06.94z\"/><path d=\"M17.41 7.96l-1.37-1.37c-.4-.4-.92-.59-1.43-.59-.52 0-1.04.2-1.43.59L10.3 9.45l-7.72 7.72c-.78.78-.78 2.05 0 2.83L4 21.41c.39.39.9.59 1.41.59.51 0 1.02-.2 1.41-.59l7.78-7.78 2.81-2.81c.8-.78.8-2.07 0-2.86zM5.41 20L4 18.59l7.72-7.72 1.47 1.35L5.41 20z\"/>\n",
              "  </svg>\n",
              "      </button>\n",
              "      \n",
              "  <style>\n",
              "    .colab-df-container {\n",
              "      display:flex;\n",
              "      flex-wrap:wrap;\n",
              "      gap: 12px;\n",
              "    }\n",
              "\n",
              "    .colab-df-convert {\n",
              "      background-color: #E8F0FE;\n",
              "      border: none;\n",
              "      border-radius: 50%;\n",
              "      cursor: pointer;\n",
              "      display: none;\n",
              "      fill: #1967D2;\n",
              "      height: 32px;\n",
              "      padding: 0 0 0 0;\n",
              "      width: 32px;\n",
              "    }\n",
              "\n",
              "    .colab-df-convert:hover {\n",
              "      background-color: #E2EBFA;\n",
              "      box-shadow: 0px 1px 2px rgba(60, 64, 67, 0.3), 0px 1px 3px 1px rgba(60, 64, 67, 0.15);\n",
              "      fill: #174EA6;\n",
              "    }\n",
              "\n",
              "    [theme=dark] .colab-df-convert {\n",
              "      background-color: #3B4455;\n",
              "      fill: #D2E3FC;\n",
              "    }\n",
              "\n",
              "    [theme=dark] .colab-df-convert:hover {\n",
              "      background-color: #434B5C;\n",
              "      box-shadow: 0px 1px 3px 1px rgba(0, 0, 0, 0.15);\n",
              "      filter: drop-shadow(0px 1px 2px rgba(0, 0, 0, 0.3));\n",
              "      fill: #FFFFFF;\n",
              "    }\n",
              "  </style>\n",
              "\n",
              "      <script>\n",
              "        const buttonEl =\n",
              "          document.querySelector('#df-760e7696-c6d2-4f55-a0ad-1951e9c5912a button.colab-df-convert');\n",
              "        buttonEl.style.display =\n",
              "          google.colab.kernel.accessAllowed ? 'block' : 'none';\n",
              "\n",
              "        async function convertToInteractive(key) {\n",
              "          const element = document.querySelector('#df-760e7696-c6d2-4f55-a0ad-1951e9c5912a');\n",
              "          const dataTable =\n",
              "            await google.colab.kernel.invokeFunction('convertToInteractive',\n",
              "                                                     [key], {});\n",
              "          if (!dataTable) return;\n",
              "\n",
              "          const docLinkHtml = 'Like what you see? Visit the ' +\n",
              "            '<a target=\"_blank\" href=https://colab.research.google.com/notebooks/data_table.ipynb>data table notebook</a>'\n",
              "            + ' to learn more about interactive tables.';\n",
              "          element.innerHTML = '';\n",
              "          dataTable['output_type'] = 'display_data';\n",
              "          await google.colab.output.renderOutput(dataTable, element);\n",
              "          const docLink = document.createElement('div');\n",
              "          docLink.innerHTML = docLinkHtml;\n",
              "          element.appendChild(docLink);\n",
              "        }\n",
              "      </script>\n",
              "    </div>\n",
              "  </div>\n",
              "  "
            ]
          },
          "metadata": {},
          "execution_count": 8
        }
      ]
    },
    {
      "cell_type": "code",
      "source": [
        "df[\"toxic\"].value_counts()"
      ],
      "metadata": {
        "colab": {
          "base_uri": "https://localhost:8080/"
        },
        "id": "rNy0V88eIva9",
        "outputId": "f3e915a6-0063-41dd-c228-f15bf0faf6ca"
      },
      "execution_count": 9,
      "outputs": [
        {
          "output_type": "execute_result",
          "data": {
            "text/plain": [
              "0    144277\n",
              "1     15294\n",
              "Name: toxic, dtype: int64"
            ]
          },
          "metadata": {},
          "execution_count": 9
        }
      ]
    },
    {
      "cell_type": "code",
      "source": [
        "df[\"severe_toxic\"].value_counts()"
      ],
      "metadata": {
        "colab": {
          "base_uri": "https://localhost:8080/"
        },
        "id": "92IOn4HvI8d_",
        "outputId": "084e8232-2d18-4a61-e0b7-bf39adbd0f46"
      },
      "execution_count": 10,
      "outputs": [
        {
          "output_type": "execute_result",
          "data": {
            "text/plain": [
              "0    157976\n",
              "1      1595\n",
              "Name: severe_toxic, dtype: int64"
            ]
          },
          "metadata": {},
          "execution_count": 10
        }
      ]
    },
    {
      "cell_type": "code",
      "source": [
        "# Import neatText\n",
        "import neattext as nt\n",
        "import neattext.functions as nfx"
      ],
      "metadata": {
        "id": "hQmJQhyjJBWS"
      },
      "execution_count": 11,
      "outputs": []
    },
    {
      "cell_type": "code",
      "source": [
        "# Explore For Noise\n",
        "#df['comment_text'].apply(lambda x:nt.TextFrame(x).noise_scan())"
      ],
      "metadata": {
        "id": "L7oxNtgOJKoR"
      },
      "execution_count": 12,
      "outputs": []
    },
    {
      "cell_type": "code",
      "source": [
        "# Explore For stopwords\n",
        "#df['comment_text'].apply(lambda x:nt.TextExtractor(x).extract_stopwords())"
      ],
      "metadata": {
        "id": "iHI1v1jTJaR8"
      },
      "execution_count": 13,
      "outputs": []
    },
    {
      "cell_type": "code",
      "source": [
        "# When stopwords removed\n",
        "#df['comment_text'].apply(nfx.remove_stopwords)"
      ],
      "metadata": {
        "id": "PQ8sEyxuJrqq"
      },
      "execution_count": 14,
      "outputs": []
    },
    {
      "cell_type": "code",
      "source": [
        "# Create a dictionary of Aphost lookup\n",
        "APHOST_LOOKUP = {\n",
        "\"aren't\" : \"are not\",\n",
        "\"can't\" : \"cannot\",\n",
        "\"couldn't\" : \"could not\",\n",
        "\"didn't\" : \"did not\",\n",
        "\"doesn't\" : \"does not\",\n",
        "\"don't\" : \"do not\",\n",
        "\"hadn't\" : \"had not\",\n",
        "\"hasn't\" : \"has not\",\n",
        "\"haven't\" : \"have not\",\n",
        "\"he'd\" : \"he would\",\n",
        "\"he'll\" : \"he will\",\n",
        "\"he's\" : \"he is\",\n",
        "\"i'd\" : \"I would\",\n",
        "\"i'd\" : \"I had\",\n",
        "\"i'll\" : \"I will\",\n",
        "\"i'm\" : \"I am\",\n",
        "\"isn't\" : \"is not\",\n",
        "\"it's\" : \"it is\",\n",
        "\"it'll\":\"it will\",\n",
        "\"i've\" : \"I have\",\n",
        "\"let's\" : \"let us\",\n",
        "\"mightn't\" : \"might not\",\n",
        "\"mustn't\" : \"must not\",\n",
        "\"shan't\" : \"shall not\",\n",
        "\"she'd\" : \"she would\",\n",
        "\"she'll\" : \"she will\",\n",
        "\"she's\" : \"she is\",\n",
        "\"shouldn't\" : \"should not\",\n",
        "\"that's\" : \"that is\",\n",
        "\"there's\" : \"there is\",\n",
        "\"they'd\" : \"they would\",\n",
        "\"they'll\" : \"they will\",\n",
        "\"they're\" : \"they are\",\n",
        "\"they've\" : \"they have\",\n",
        "\"we'd\" : \"we would\",\n",
        "\"we're\" : \"we are\",\n",
        "\"weren't\" : \"were not\",\n",
        "\"we've\" : \"we have\",\n",
        "\"what'll\" : \"what will\",\n",
        "\"what're\" : \"what are\",\n",
        "\"what's\" : \"what is\",\n",
        "\"what've\" : \"what have\",\n",
        "\"where's\" : \"where is\",\n",
        "\"who'd\" : \"who would\",\n",
        "\"who'll\" : \"who will\",\n",
        "\"who're\" : \"who are\",\n",
        "\"who's\" : \"who is\",\n",
        "\"who've\" : \"who have\",\n",
        "\"won't\" : \"will not\",\n",
        "\"wouldn't\" : \"would not\",\n",
        "\"you'd\" : \"you would\",\n",
        "\"you'll\" : \"you will\",\n",
        "\"you're\" : \"you are\",\n",
        "\"you've\" : \"you have\",\n",
        "\"'re\": \" are\",\n",
        "\"wasn't\": \"was not\",\n",
        "\"we'll\":\" will\",\n",
        "\"didn't\": \"did not\",\n",
        "\"tryin'\":\"trying\"\n",
        "}"
      ],
      "metadata": {
        "id": "LTU0l2HBmCgr"
      },
      "execution_count": 15,
      "outputs": []
    },
    {
      "cell_type": "code",
      "source": [
        "# Define the function for data cleaning\n",
        "def clean_data_pipeline(comment):\n",
        "    comment=comment.lower() # Convert to lower case\n",
        "    comment=re.sub(\"\\\\n\",\"\",comment) # Remove new line\n",
        "    # Remove the leaky elements like ip,user\n",
        "    comment=re.sub(\"\\d{1,3}\\.\\d{1,3}\\.\\d{1,3}\\.\\d{1,3}\",\"\",comment)\n",
        "    comment=re.sub(\"\\[\\[.*\\]\",\"\",comment) # Remove users\n",
        "    words=tokenizer.tokenize(comment) # Tokenize into words\n",
        "    # Replace apostrophe with reference to the Aphost Dictionary \n",
        "    words=[APHOST_LOOKUP[word] if word in APHOST_LOOKUP else word for word in words]\n",
        "    words=[lem.lemmatize(word, \"v\") for word in words] # Lemmatization\n",
        "    words = [w for w in words if not w in eng_stopwords] # Remove stopwords\n",
        "    clean_sent=\" \".join(words)\n",
        "    return(clean_sent)"
      ],
      "metadata": {
        "id": "16i25cTZl5zF"
      },
      "execution_count": 16,
      "outputs": []
    },
    {
      "cell_type": "code",
      "source": [
        "#corpus = df['comment_text'].apply(nfx.remove_stopwords)\n",
        "corpus = df['comment_text'].apply(clean_data_pipeline)"
      ],
      "metadata": {
        "id": "D03FNU8AJ4Vg"
      },
      "execution_count": 17,
      "outputs": []
    },
    {
      "cell_type": "markdown",
      "source": [
        "## Feature Engineering"
      ],
      "metadata": {
        "id": "jT9aA7i_KGjg"
      }
    },
    {
      "cell_type": "code",
      "source": [
        "# Initiate a TF-IDF Vectorizer\n",
        "tfidf = TfidfVectorizer(min_df=100,  max_features=30000)"
      ],
      "metadata": {
        "id": "NKXHuumiKCrH"
      },
      "execution_count": 18,
      "outputs": []
    },
    {
      "cell_type": "code",
      "source": [
        "# Generate vectorized features features\n",
        "Xfeatures = tfidf.fit_transform(corpus).toarray()"
      ],
      "metadata": {
        "id": "hwMVRxVOKPXI"
      },
      "execution_count": 19,
      "outputs": []
    },
    {
      "cell_type": "code",
      "source": [
        "# Examine samples\n",
        "df.sample(10)"
      ],
      "metadata": {
        "id": "slpCcZ7rKT1y",
        "colab": {
          "base_uri": "https://localhost:8080/",
          "height": 363
        },
        "outputId": "d8a2cf41-da1a-41cc-dee7-a23430fa1e60"
      },
      "execution_count": 20,
      "outputs": [
        {
          "output_type": "execute_result",
          "data": {
            "text/plain": [
              "                      id                                       comment_text  \\\n",
              "62171   a6537520900369f6  Listen here Schumin\\n\\nI have waged a war of a...   \n",
              "52906   8d67235438097663  Not\\n\\na Goddamned thing, if you dont like it,...   \n",
              "15389   28ac0fe57fcd956c  its been merged, but how to delete the other a...   \n",
              "153348  9b8b9d7f821ec107  Massive Plagarism\\nThe bulk of the article is ...   \n",
              "114683  65573622ed3c6f62  \"This article needs to stay and grow.  In my o...   \n",
              "26961   4767daebdc2142af  \"\\n\\nThe anonymous comments above (written by ...   \n",
              "99384   139b903f981cf4ed  Again Pan-Turkistic vandalism \\n\\nSorry to bot...   \n",
              "119603  7f719934cad289be   \"\\nYou could try proposing a change.    (Talk) \"   \n",
              "47091   7dcc8797cede5cd1  \"\\n\\n TV show? \\n\\nWill you please explain of ...   \n",
              "4433    0bcc879e6af0093d                            proposed the bank notes   \n",
              "\n",
              "        toxic  severe_toxic  obscene  threat  insult  identity_hate  \n",
              "62171       0             0        0       0       0              0  \n",
              "52906       1             0        0       0       0              0  \n",
              "15389       0             0        0       0       0              0  \n",
              "153348      0             0        0       0       0              0  \n",
              "114683      0             0        0       0       0              0  \n",
              "26961       0             0        0       0       0              0  \n",
              "99384       0             0        0       0       0              0  \n",
              "119603      0             0        0       0       0              0  \n",
              "47091       0             0        0       0       0              0  \n",
              "4433        0             0        0       0       0              0  "
            ],
            "text/html": [
              "\n",
              "  <div id=\"df-67bc899f-ea4d-4b4f-88d6-3ec681013440\">\n",
              "    <div class=\"colab-df-container\">\n",
              "      <div>\n",
              "<style scoped>\n",
              "    .dataframe tbody tr th:only-of-type {\n",
              "        vertical-align: middle;\n",
              "    }\n",
              "\n",
              "    .dataframe tbody tr th {\n",
              "        vertical-align: top;\n",
              "    }\n",
              "\n",
              "    .dataframe thead th {\n",
              "        text-align: right;\n",
              "    }\n",
              "</style>\n",
              "<table border=\"1\" class=\"dataframe\">\n",
              "  <thead>\n",
              "    <tr style=\"text-align: right;\">\n",
              "      <th></th>\n",
              "      <th>id</th>\n",
              "      <th>comment_text</th>\n",
              "      <th>toxic</th>\n",
              "      <th>severe_toxic</th>\n",
              "      <th>obscene</th>\n",
              "      <th>threat</th>\n",
              "      <th>insult</th>\n",
              "      <th>identity_hate</th>\n",
              "    </tr>\n",
              "  </thead>\n",
              "  <tbody>\n",
              "    <tr>\n",
              "      <th>62171</th>\n",
              "      <td>a6537520900369f6</td>\n",
              "      <td>Listen here Schumin\\n\\nI have waged a war of a...</td>\n",
              "      <td>0</td>\n",
              "      <td>0</td>\n",
              "      <td>0</td>\n",
              "      <td>0</td>\n",
              "      <td>0</td>\n",
              "      <td>0</td>\n",
              "    </tr>\n",
              "    <tr>\n",
              "      <th>52906</th>\n",
              "      <td>8d67235438097663</td>\n",
              "      <td>Not\\n\\na Goddamned thing, if you dont like it,...</td>\n",
              "      <td>1</td>\n",
              "      <td>0</td>\n",
              "      <td>0</td>\n",
              "      <td>0</td>\n",
              "      <td>0</td>\n",
              "      <td>0</td>\n",
              "    </tr>\n",
              "    <tr>\n",
              "      <th>15389</th>\n",
              "      <td>28ac0fe57fcd956c</td>\n",
              "      <td>its been merged, but how to delete the other a...</td>\n",
              "      <td>0</td>\n",
              "      <td>0</td>\n",
              "      <td>0</td>\n",
              "      <td>0</td>\n",
              "      <td>0</td>\n",
              "      <td>0</td>\n",
              "    </tr>\n",
              "    <tr>\n",
              "      <th>153348</th>\n",
              "      <td>9b8b9d7f821ec107</td>\n",
              "      <td>Massive Plagarism\\nThe bulk of the article is ...</td>\n",
              "      <td>0</td>\n",
              "      <td>0</td>\n",
              "      <td>0</td>\n",
              "      <td>0</td>\n",
              "      <td>0</td>\n",
              "      <td>0</td>\n",
              "    </tr>\n",
              "    <tr>\n",
              "      <th>114683</th>\n",
              "      <td>65573622ed3c6f62</td>\n",
              "      <td>\"This article needs to stay and grow.  In my o...</td>\n",
              "      <td>0</td>\n",
              "      <td>0</td>\n",
              "      <td>0</td>\n",
              "      <td>0</td>\n",
              "      <td>0</td>\n",
              "      <td>0</td>\n",
              "    </tr>\n",
              "    <tr>\n",
              "      <th>26961</th>\n",
              "      <td>4767daebdc2142af</td>\n",
              "      <td>\"\\n\\nThe anonymous comments above (written by ...</td>\n",
              "      <td>0</td>\n",
              "      <td>0</td>\n",
              "      <td>0</td>\n",
              "      <td>0</td>\n",
              "      <td>0</td>\n",
              "      <td>0</td>\n",
              "    </tr>\n",
              "    <tr>\n",
              "      <th>99384</th>\n",
              "      <td>139b903f981cf4ed</td>\n",
              "      <td>Again Pan-Turkistic vandalism \\n\\nSorry to bot...</td>\n",
              "      <td>0</td>\n",
              "      <td>0</td>\n",
              "      <td>0</td>\n",
              "      <td>0</td>\n",
              "      <td>0</td>\n",
              "      <td>0</td>\n",
              "    </tr>\n",
              "    <tr>\n",
              "      <th>119603</th>\n",
              "      <td>7f719934cad289be</td>\n",
              "      <td>\"\\nYou could try proposing a change.    (Talk) \"</td>\n",
              "      <td>0</td>\n",
              "      <td>0</td>\n",
              "      <td>0</td>\n",
              "      <td>0</td>\n",
              "      <td>0</td>\n",
              "      <td>0</td>\n",
              "    </tr>\n",
              "    <tr>\n",
              "      <th>47091</th>\n",
              "      <td>7dcc8797cede5cd1</td>\n",
              "      <td>\"\\n\\n TV show? \\n\\nWill you please explain of ...</td>\n",
              "      <td>0</td>\n",
              "      <td>0</td>\n",
              "      <td>0</td>\n",
              "      <td>0</td>\n",
              "      <td>0</td>\n",
              "      <td>0</td>\n",
              "    </tr>\n",
              "    <tr>\n",
              "      <th>4433</th>\n",
              "      <td>0bcc879e6af0093d</td>\n",
              "      <td>proposed the bank notes</td>\n",
              "      <td>0</td>\n",
              "      <td>0</td>\n",
              "      <td>0</td>\n",
              "      <td>0</td>\n",
              "      <td>0</td>\n",
              "      <td>0</td>\n",
              "    </tr>\n",
              "  </tbody>\n",
              "</table>\n",
              "</div>\n",
              "      <button class=\"colab-df-convert\" onclick=\"convertToInteractive('df-67bc899f-ea4d-4b4f-88d6-3ec681013440')\"\n",
              "              title=\"Convert this dataframe to an interactive table.\"\n",
              "              style=\"display:none;\">\n",
              "        \n",
              "  <svg xmlns=\"http://www.w3.org/2000/svg\" height=\"24px\"viewBox=\"0 0 24 24\"\n",
              "       width=\"24px\">\n",
              "    <path d=\"M0 0h24v24H0V0z\" fill=\"none\"/>\n",
              "    <path d=\"M18.56 5.44l.94 2.06.94-2.06 2.06-.94-2.06-.94-.94-2.06-.94 2.06-2.06.94zm-11 1L8.5 8.5l.94-2.06 2.06-.94-2.06-.94L8.5 2.5l-.94 2.06-2.06.94zm10 10l.94 2.06.94-2.06 2.06-.94-2.06-.94-.94-2.06-.94 2.06-2.06.94z\"/><path d=\"M17.41 7.96l-1.37-1.37c-.4-.4-.92-.59-1.43-.59-.52 0-1.04.2-1.43.59L10.3 9.45l-7.72 7.72c-.78.78-.78 2.05 0 2.83L4 21.41c.39.39.9.59 1.41.59.51 0 1.02-.2 1.41-.59l7.78-7.78 2.81-2.81c.8-.78.8-2.07 0-2.86zM5.41 20L4 18.59l7.72-7.72 1.47 1.35L5.41 20z\"/>\n",
              "  </svg>\n",
              "      </button>\n",
              "      \n",
              "  <style>\n",
              "    .colab-df-container {\n",
              "      display:flex;\n",
              "      flex-wrap:wrap;\n",
              "      gap: 12px;\n",
              "    }\n",
              "\n",
              "    .colab-df-convert {\n",
              "      background-color: #E8F0FE;\n",
              "      border: none;\n",
              "      border-radius: 50%;\n",
              "      cursor: pointer;\n",
              "      display: none;\n",
              "      fill: #1967D2;\n",
              "      height: 32px;\n",
              "      padding: 0 0 0 0;\n",
              "      width: 32px;\n",
              "    }\n",
              "\n",
              "    .colab-df-convert:hover {\n",
              "      background-color: #E2EBFA;\n",
              "      box-shadow: 0px 1px 2px rgba(60, 64, 67, 0.3), 0px 1px 3px 1px rgba(60, 64, 67, 0.15);\n",
              "      fill: #174EA6;\n",
              "    }\n",
              "\n",
              "    [theme=dark] .colab-df-convert {\n",
              "      background-color: #3B4455;\n",
              "      fill: #D2E3FC;\n",
              "    }\n",
              "\n",
              "    [theme=dark] .colab-df-convert:hover {\n",
              "      background-color: #434B5C;\n",
              "      box-shadow: 0px 1px 3px 1px rgba(0, 0, 0, 0.15);\n",
              "      filter: drop-shadow(0px 1px 2px rgba(0, 0, 0, 0.3));\n",
              "      fill: #FFFFFF;\n",
              "    }\n",
              "  </style>\n",
              "\n",
              "      <script>\n",
              "        const buttonEl =\n",
              "          document.querySelector('#df-67bc899f-ea4d-4b4f-88d6-3ec681013440 button.colab-df-convert');\n",
              "        buttonEl.style.display =\n",
              "          google.colab.kernel.accessAllowed ? 'block' : 'none';\n",
              "\n",
              "        async function convertToInteractive(key) {\n",
              "          const element = document.querySelector('#df-67bc899f-ea4d-4b4f-88d6-3ec681013440');\n",
              "          const dataTable =\n",
              "            await google.colab.kernel.invokeFunction('convertToInteractive',\n",
              "                                                     [key], {});\n",
              "          if (!dataTable) return;\n",
              "\n",
              "          const docLinkHtml = 'Like what you see? Visit the ' +\n",
              "            '<a target=\"_blank\" href=https://colab.research.google.com/notebooks/data_table.ipynb>data table notebook</a>'\n",
              "            + ' to learn more about interactive tables.';\n",
              "          element.innerHTML = '';\n",
              "          dataTable['output_type'] = 'display_data';\n",
              "          await google.colab.output.renderOutput(dataTable, element);\n",
              "          const docLink = document.createElement('div');\n",
              "          docLink.innerHTML = docLinkHtml;\n",
              "          element.appendChild(docLink);\n",
              "        }\n",
              "      </script>\n",
              "    </div>\n",
              "  </div>\n",
              "  "
            ]
          },
          "metadata": {},
          "execution_count": 20
        }
      ]
    },
    {
      "cell_type": "code",
      "source": [
        "# Get the columns related to toxicity\n",
        "y = df[['toxic', 'severe_toxic', 'obscene',\t'threat','insult', 'identity_hate']]"
      ],
      "metadata": {
        "id": "Oi2aeGRBK-CU"
      },
      "execution_count": 21,
      "outputs": []
    },
    {
      "cell_type": "code",
      "source": [
        "# Split Data \n",
        "X_train,X_test,y_train,y_test = train_test_split(Xfeatures,y,test_size=0.3,random_state=42)"
      ],
      "metadata": {
        "id": "JKECFbDGKkIw"
      },
      "execution_count": 22,
      "outputs": []
    },
    {
      "cell_type": "code",
      "source": [
        "# import skmultilearn\n",
        "import skmultilearn"
      ],
      "metadata": {
        "id": "vZHW_V-RL_rs"
      },
      "execution_count": 23,
      "outputs": []
    },
    {
      "cell_type": "markdown",
      "source": [
        "### Binary Relevance"
      ],
      "metadata": {
        "id": "kt4aixxOMQ1q"
      }
    },
    {
      "cell_type": "code",
      "source": [
        "# Multi-Label conversion to Multi-Class binary classification\n",
        "binary_rel_clf = BinaryRelevance(MultinomialNB())"
      ],
      "metadata": {
        "id": "2U8eEa8bMS6m"
      },
      "execution_count": 24,
      "outputs": []
    },
    {
      "cell_type": "code",
      "source": [
        "# Train the classifier\n",
        "binary_rel_clf.fit(X_train,y_train)"
      ],
      "metadata": {
        "id": "4BRRw4BdMXLM",
        "colab": {
          "base_uri": "https://localhost:8080/",
          "height": 117
        },
        "outputId": "97d405b8-613c-4a35-8ad4-1bc686ad9b7d"
      },
      "execution_count": 25,
      "outputs": [
        {
          "output_type": "execute_result",
          "data": {
            "text/plain": [
              "BinaryRelevance(classifier=MultinomialNB(), require_dense=[True, True])"
            ],
            "text/html": [
              "<style>#sk-container-id-1 {color: black;background-color: white;}#sk-container-id-1 pre{padding: 0;}#sk-container-id-1 div.sk-toggleable {background-color: white;}#sk-container-id-1 label.sk-toggleable__label {cursor: pointer;display: block;width: 100%;margin-bottom: 0;padding: 0.3em;box-sizing: border-box;text-align: center;}#sk-container-id-1 label.sk-toggleable__label-arrow:before {content: \"▸\";float: left;margin-right: 0.25em;color: #696969;}#sk-container-id-1 label.sk-toggleable__label-arrow:hover:before {color: black;}#sk-container-id-1 div.sk-estimator:hover label.sk-toggleable__label-arrow:before {color: black;}#sk-container-id-1 div.sk-toggleable__content {max-height: 0;max-width: 0;overflow: hidden;text-align: left;background-color: #f0f8ff;}#sk-container-id-1 div.sk-toggleable__content pre {margin: 0.2em;color: black;border-radius: 0.25em;background-color: #f0f8ff;}#sk-container-id-1 input.sk-toggleable__control:checked~div.sk-toggleable__content {max-height: 200px;max-width: 100%;overflow: auto;}#sk-container-id-1 input.sk-toggleable__control:checked~label.sk-toggleable__label-arrow:before {content: \"▾\";}#sk-container-id-1 div.sk-estimator input.sk-toggleable__control:checked~label.sk-toggleable__label {background-color: #d4ebff;}#sk-container-id-1 div.sk-label input.sk-toggleable__control:checked~label.sk-toggleable__label {background-color: #d4ebff;}#sk-container-id-1 input.sk-hidden--visually {border: 0;clip: rect(1px 1px 1px 1px);clip: rect(1px, 1px, 1px, 1px);height: 1px;margin: -1px;overflow: hidden;padding: 0;position: absolute;width: 1px;}#sk-container-id-1 div.sk-estimator {font-family: monospace;background-color: #f0f8ff;border: 1px dotted black;border-radius: 0.25em;box-sizing: border-box;margin-bottom: 0.5em;}#sk-container-id-1 div.sk-estimator:hover {background-color: #d4ebff;}#sk-container-id-1 div.sk-parallel-item::after {content: \"\";width: 100%;border-bottom: 1px solid gray;flex-grow: 1;}#sk-container-id-1 div.sk-label:hover label.sk-toggleable__label {background-color: #d4ebff;}#sk-container-id-1 div.sk-serial::before {content: \"\";position: absolute;border-left: 1px solid gray;box-sizing: border-box;top: 0;bottom: 0;left: 50%;z-index: 0;}#sk-container-id-1 div.sk-serial {display: flex;flex-direction: column;align-items: center;background-color: white;padding-right: 0.2em;padding-left: 0.2em;position: relative;}#sk-container-id-1 div.sk-item {position: relative;z-index: 1;}#sk-container-id-1 div.sk-parallel {display: flex;align-items: stretch;justify-content: center;background-color: white;position: relative;}#sk-container-id-1 div.sk-item::before, #sk-container-id-1 div.sk-parallel-item::before {content: \"\";position: absolute;border-left: 1px solid gray;box-sizing: border-box;top: 0;bottom: 0;left: 50%;z-index: -1;}#sk-container-id-1 div.sk-parallel-item {display: flex;flex-direction: column;z-index: 1;position: relative;background-color: white;}#sk-container-id-1 div.sk-parallel-item:first-child::after {align-self: flex-end;width: 50%;}#sk-container-id-1 div.sk-parallel-item:last-child::after {align-self: flex-start;width: 50%;}#sk-container-id-1 div.sk-parallel-item:only-child::after {width: 0;}#sk-container-id-1 div.sk-dashed-wrapped {border: 1px dashed gray;margin: 0 0.4em 0.5em 0.4em;box-sizing: border-box;padding-bottom: 0.4em;background-color: white;}#sk-container-id-1 div.sk-label label {font-family: monospace;font-weight: bold;display: inline-block;line-height: 1.2em;}#sk-container-id-1 div.sk-label-container {text-align: center;}#sk-container-id-1 div.sk-container {/* jupyter's `normalize.less` sets `[hidden] { display: none; }` but bootstrap.min.css set `[hidden] { display: none !important; }` so we also need the `!important` here to be able to override the default hidden behavior on the sphinx rendered scikit-learn.org. See: https://github.com/scikit-learn/scikit-learn/issues/21755 */display: inline-block !important;position: relative;}#sk-container-id-1 div.sk-text-repr-fallback {display: none;}</style><div id=\"sk-container-id-1\" class=\"sk-top-container\"><div class=\"sk-text-repr-fallback\"><pre>BinaryRelevance(classifier=MultinomialNB(), require_dense=[True, True])</pre><b>In a Jupyter environment, please rerun this cell to show the HTML representation or trust the notebook. <br />On GitHub, the HTML representation is unable to render, please try loading this page with nbviewer.org.</b></div><div class=\"sk-container\" hidden><div class=\"sk-item sk-dashed-wrapped\"><div class=\"sk-label-container\"><div class=\"sk-label sk-toggleable\"><input class=\"sk-toggleable__control sk-hidden--visually\" id=\"sk-estimator-id-1\" type=\"checkbox\" ><label for=\"sk-estimator-id-1\" class=\"sk-toggleable__label sk-toggleable__label-arrow\">BinaryRelevance</label><div class=\"sk-toggleable__content\"><pre>BinaryRelevance(classifier=MultinomialNB(), require_dense=[True, True])</pre></div></div></div><div class=\"sk-parallel\"><div class=\"sk-parallel-item\"><div class=\"sk-item\"><div class=\"sk-label-container\"><div class=\"sk-label sk-toggleable\"><input class=\"sk-toggleable__control sk-hidden--visually\" id=\"sk-estimator-id-2\" type=\"checkbox\" ><label for=\"sk-estimator-id-2\" class=\"sk-toggleable__label sk-toggleable__label-arrow\">classifier: MultinomialNB</label><div class=\"sk-toggleable__content\"><pre>MultinomialNB()</pre></div></div></div><div class=\"sk-serial\"><div class=\"sk-item\"><div class=\"sk-estimator sk-toggleable\"><input class=\"sk-toggleable__control sk-hidden--visually\" id=\"sk-estimator-id-3\" type=\"checkbox\" ><label for=\"sk-estimator-id-3\" class=\"sk-toggleable__label sk-toggleable__label-arrow\">MultinomialNB</label><div class=\"sk-toggleable__content\"><pre>MultinomialNB()</pre></div></div></div></div></div></div></div></div></div></div>"
            ]
          },
          "metadata": {},
          "execution_count": 25
        }
      ]
    },
    {
      "cell_type": "code",
      "source": [
        "# Make predictions\n",
        "br_prediction = binary_rel_clf.predict(X_test)"
      ],
      "metadata": {
        "id": "uDH6dS7GMcgO"
      },
      "execution_count": 26,
      "outputs": []
    },
    {
      "cell_type": "code",
      "source": [
        "#Check the accuracy\n",
        "accuracy_score(y_test,br_prediction)"
      ],
      "metadata": {
        "id": "kAGwQbNmMiQh",
        "colab": {
          "base_uri": "https://localhost:8080/"
        },
        "outputId": "d4a9c9b3-dff0-4c91-f461-bf6849265665"
      },
      "execution_count": 27,
      "outputs": [
        {
          "output_type": "execute_result",
          "data": {
            "text/plain": [
              "0.912850935828877"
            ]
          },
          "metadata": {},
          "execution_count": 27
        }
      ]
    },
    {
      "cell_type": "code",
      "source": [
        "# Check for the Hamming Loss which indicates incorrect prediction\n",
        "hamming_loss(y_test,br_prediction)"
      ],
      "metadata": {
        "id": "lQ__vgxRMlv0",
        "colab": {
          "base_uri": "https://localhost:8080/"
        },
        "outputId": "c8d656bc-c512-4e81-e3ed-317ec65997df"
      },
      "execution_count": 28,
      "outputs": [
        {
          "output_type": "execute_result",
          "data": {
            "text/plain": [
              "0.022396529634581105"
            ]
          },
          "metadata": {},
          "execution_count": 28
        }
      ]
    },
    {
      "cell_type": "markdown",
      "source": [
        "#### Classifier chain"
      ],
      "metadata": {
        "id": "Soyytx7DMse_"
      }
    },
    {
      "cell_type": "code",
      "source": [
        "def get_model_metrics(model,mlb_estimator,xtrain,ytrain,xtest,ytest):\n",
        "    # Create an Instance\n",
        "    clf = mlb_estimator(model)\n",
        "    clf.fit(xtrain,ytrain)\n",
        "    # Predict\n",
        "    clf_predictions = clf.predict(xtest)\n",
        "    # Check For Accuracy\n",
        "    acc = accuracy_score(ytest,clf_predictions)\n",
        "    ham = hamming_loss(ytest,clf_predictions)\n",
        "    result = {\"accuracy:\":acc,\"hamming_score\":ham}\n",
        "    return result"
      ],
      "metadata": {
        "id": "lnwf0P94MuY1"
      },
      "execution_count": 29,
      "outputs": []
    },
    {
      "cell_type": "code",
      "source": [
        "# Build a model chain using LogisticRegression\n",
        "clf_model_chained = get_model_metrics(LogisticRegression(),ClassifierChain,X_train,y_train,X_test,y_test)"
      ],
      "metadata": {
        "id": "ooAJHVxRMyhg",
        "colab": {
          "base_uri": "https://localhost:8080/"
        },
        "outputId": "cce1086c-0c6c-4034-ac89-0bcd6e06b944"
      },
      "execution_count": 30,
      "outputs": [
        {
          "output_type": "stream",
          "name": "stderr",
          "text": [
            "/usr/local/lib/python3.8/dist-packages/sklearn/linear_model/_logistic.py:458: ConvergenceWarning: lbfgs failed to converge (status=1):\n",
            "STOP: TOTAL NO. of ITERATIONS REACHED LIMIT.\n",
            "\n",
            "Increase the number of iterations (max_iter) or scale the data as shown in:\n",
            "    https://scikit-learn.org/stable/modules/preprocessing.html\n",
            "Please also refer to the documentation for alternative solver options:\n",
            "    https://scikit-learn.org/stable/modules/linear_model.html#logistic-regression\n",
            "  n_iter_i = _check_optimize_result(\n"
          ]
        }
      ]
    },
    {
      "cell_type": "code",
      "source": [
        "clf_model_chained"
      ],
      "metadata": {
        "id": "8JTWR-OdM07z",
        "colab": {
          "base_uri": "https://localhost:8080/"
        },
        "outputId": "7a5fabaf-b204-4bb0-85c1-ba689c7ed95e"
      },
      "execution_count": 31,
      "outputs": [
        {
          "output_type": "execute_result",
          "data": {
            "text/plain": [
              "{'accuracy:': 0.9201412098930482, 'hamming_score': 0.019249247994652406}"
            ]
          },
          "metadata": {},
          "execution_count": 31
        }
      ]
    },
    {
      "cell_type": "markdown",
      "source": [
        "### Multilabel Classification"
      ],
      "metadata": {
        "id": "iDlyLZneM70T"
      }
    },
    {
      "cell_type": "code",
      "source": [
        "clf_labelP_model = get_model_metrics(LogisticRegression(),LabelPowerset,X_train,y_train,X_test,y_test)"
      ],
      "metadata": {
        "id": "H4qOmi54NAi6",
        "colab": {
          "base_uri": "https://localhost:8080/"
        },
        "outputId": "085b2155-c7e5-4891-f99c-515784ec281e"
      },
      "execution_count": 32,
      "outputs": [
        {
          "output_type": "stream",
          "name": "stderr",
          "text": [
            "/usr/local/lib/python3.8/dist-packages/sklearn/linear_model/_logistic.py:458: ConvergenceWarning: lbfgs failed to converge (status=1):\n",
            "STOP: TOTAL NO. of ITERATIONS REACHED LIMIT.\n",
            "\n",
            "Increase the number of iterations (max_iter) or scale the data as shown in:\n",
            "    https://scikit-learn.org/stable/modules/preprocessing.html\n",
            "Please also refer to the documentation for alternative solver options:\n",
            "    https://scikit-learn.org/stable/modules/linear_model.html#logistic-regression\n",
            "  n_iter_i = _check_optimize_result(\n"
          ]
        }
      ]
    },
    {
      "cell_type": "code",
      "source": [
        "clf_labelP_model"
      ],
      "metadata": {
        "id": "3qPFOxltNKg9",
        "colab": {
          "base_uri": "https://localhost:8080/"
        },
        "outputId": "80ac7fca-3499-4633-9afa-d9df1288fe4a"
      },
      "execution_count": 33,
      "outputs": [
        {
          "output_type": "execute_result",
          "data": {
            "text/plain": [
              "{'accuracy:': 0.917550969251337, 'hamming_score': 0.02067318404634581}"
            ]
          },
          "metadata": {},
          "execution_count": 33
        }
      ]
    },
    {
      "cell_type": "markdown",
      "source": [
        "#### Test to validate the prediction"
      ],
      "metadata": {
        "id": "5ZFjWPxhNPIE"
      }
    },
    {
      "cell_type": "code",
      "source": [
        "# Identify the index of a clean and a toxic comment to test\n",
        "CLEAN = 2\n",
        "TOXIC = 19191"
      ],
      "metadata": {
        "id": "mVbuhnBRYFms"
      },
      "execution_count": 34,
      "outputs": []
    },
    {
      "cell_type": "code",
      "source": [
        "# Take a clean comment\n",
        "comment_clean = df['comment_text'].iloc[CLEAN]\n",
        "comment_clean"
      ],
      "metadata": {
        "id": "9ebVpIE4NSni",
        "colab": {
          "base_uri": "https://localhost:8080/",
          "height": 53
        },
        "outputId": "3740e35c-f666-4804-b9cc-ee09ef116bd6"
      },
      "execution_count": 35,
      "outputs": [
        {
          "output_type": "execute_result",
          "data": {
            "text/plain": [
              "\"Hey man, I'm really not trying to edit war. It's just that this guy is constantly removing relevant information and talking to me through edits instead of my talk page. He seems to care more about the formatting than the actual info.\""
            ],
            "application/vnd.google.colaboratory.intrinsic+json": {
              "type": "string"
            }
          },
          "metadata": {},
          "execution_count": 35
        }
      ]
    },
    {
      "cell_type": "code",
      "source": [
        "# take a toxic comment\n",
        "comment_toxic = df['comment_text'].iloc[19191]\n",
        "comment_toxic"
      ],
      "metadata": {
        "colab": {
          "base_uri": "https://localhost:8080/",
          "height": 36
        },
        "id": "yxBWgha2Ye4y",
        "outputId": "2030a22f-ef1d-458a-85a9-89cdfaf90cd9"
      },
      "execution_count": 36,
      "outputs": [
        {
          "output_type": "execute_result",
          "data": {
            "text/plain": [
              "'Did you know... \\n\\n... that you are an ugly piece of shit?\\n\\nSerious question.'"
            ],
            "application/vnd.google.colaboratory.intrinsic+json": {
              "type": "string"
            }
          },
          "metadata": {},
          "execution_count": 36
        }
      ]
    },
    {
      "cell_type": "code",
      "source": [
        "# Output of clean comment\n",
        "df[df.columns[2:]].iloc[CLEAN]"
      ],
      "metadata": {
        "colab": {
          "base_uri": "https://localhost:8080/"
        },
        "id": "DPuUg_UkY_jl",
        "outputId": "0d941e32-1936-4b71-b796-7dafaa7331c2"
      },
      "execution_count": 37,
      "outputs": [
        {
          "output_type": "execute_result",
          "data": {
            "text/plain": [
              "toxic            0\n",
              "severe_toxic     0\n",
              "obscene          0\n",
              "threat           0\n",
              "insult           0\n",
              "identity_hate    0\n",
              "Name: 2, dtype: int64"
            ]
          },
          "metadata": {},
          "execution_count": 37
        }
      ]
    },
    {
      "cell_type": "code",
      "source": [
        "# Output of toxic comment\n",
        "df[df.columns[2:]].iloc[TOXIC]"
      ],
      "metadata": {
        "colab": {
          "base_uri": "https://localhost:8080/"
        },
        "id": "TmZ8vbkjn2qn",
        "outputId": "d2b075d7-26b9-4b73-f909-6fa7673f016a"
      },
      "execution_count": 38,
      "outputs": [
        {
          "output_type": "execute_result",
          "data": {
            "text/plain": [
              "toxic            1\n",
              "severe_toxic     0\n",
              "obscene          1\n",
              "threat           0\n",
              "insult           1\n",
              "identity_hate    0\n",
              "Name: 19191, dtype: int64"
            ]
          },
          "metadata": {},
          "execution_count": 38
        }
      ]
    },
    {
      "cell_type": "code",
      "source": [
        "# Vectorized  clean\n",
        "vec_clean = tfidf.transform([comment_clean])"
      ],
      "metadata": {
        "id": "8KnFHGsaNX_j"
      },
      "execution_count": 39,
      "outputs": []
    },
    {
      "cell_type": "code",
      "source": [
        "vec_toxic= tfidf.transform([comment_toxic])"
      ],
      "metadata": {
        "id": "cmE0bgVLmYsg"
      },
      "execution_count": 40,
      "outputs": []
    },
    {
      "cell_type": "code",
      "source": [
        "# Predict for clean comment\n",
        "binary_rel_clf.predict(vec_clean).toarray()"
      ],
      "metadata": {
        "id": "UnDryWLmNb2a",
        "colab": {
          "base_uri": "https://localhost:8080/"
        },
        "outputId": "5a536359-2d71-451c-8cd5-c18cbcce585c"
      },
      "execution_count": 41,
      "outputs": [
        {
          "output_type": "execute_result",
          "data": {
            "text/plain": [
              "array([[0, 0, 0, 0, 0, 0]])"
            ]
          },
          "metadata": {},
          "execution_count": 41
        }
      ]
    },
    {
      "cell_type": "code",
      "source": [
        "# Predict for toxic comment\n",
        "binary_rel_clf.predict(vec_toxic).toarray()"
      ],
      "metadata": {
        "colab": {
          "base_uri": "https://localhost:8080/"
        },
        "id": "m-QJWafTlp9c",
        "outputId": "174841f9-175d-4441-cc72-5e0c1dc1a820"
      },
      "execution_count": 42,
      "outputs": [
        {
          "output_type": "execute_result",
          "data": {
            "text/plain": [
              "array([[1, 0, 1, 0, 0, 0]])"
            ]
          },
          "metadata": {},
          "execution_count": 42
        }
      ]
    },
    {
      "cell_type": "markdown",
      "source": [
        "### Hence we observe that it correctly predicts the clean and toxic comments. Hence our classifier is ready."
      ],
      "metadata": {
        "id": "BikMuXreZshk"
      }
    },
    {
      "cell_type": "markdown",
      "source": [
        "#### Save the Toxic Comment Classifier for creating API and REST End points"
      ],
      "metadata": {
        "id": "UFslmjZDNinc"
      }
    },
    {
      "cell_type": "code",
      "source": [
        "# Save the Model\n",
        "binary_rel_clf_file = open(\"toxic_comments_classifier.pkl\",\"wb\")\n",
        "joblib.dump(binary_rel_clf,binary_rel_clf_file)\n",
        "binary_rel_clf_file.close()"
      ],
      "metadata": {
        "id": "QSxlO86uNnkH"
      },
      "execution_count": 43,
      "outputs": []
    },
    {
      "cell_type": "code",
      "source": [
        "# Save the vectorizer\n",
        "tfidf_vectorizer_file = open(\"toxic_comments_tfidf_vectorizer.pkl\",\"wb\")\n",
        "joblib.dump(tfidf,tfidf_vectorizer_file)\n",
        "tfidf_vectorizer_file.close()"
      ],
      "metadata": {
        "id": "QG_BMrRTNq2e"
      },
      "execution_count": 44,
      "outputs": []
    },
    {
      "cell_type": "markdown",
      "source": [
        "The saved classifier and vectorizer can be used for creating an API and REST Service to classify any toxic comments and implement in any Desktop, Web or Mobile applications."
      ],
      "metadata": {
        "id": "Jojyjaqueb8T"
      }
    }
  ]
}