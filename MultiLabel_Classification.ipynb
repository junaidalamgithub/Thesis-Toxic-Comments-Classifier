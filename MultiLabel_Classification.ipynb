{
  "nbformat": 4,
  "nbformat_minor": 0,
  "metadata": {
    "colab": {
      "provenance": [],
      "machine_shape": "hm"
    },
    "kernelspec": {
      "name": "python3",
      "display_name": "Python 3"
    },
    "language_info": {
      "name": "python"
    },
    "gpuClass": "standard",
    "accelerator": "GPU"
  },
  "cells": [
    {
      "cell_type": "markdown",
      "source": [
        "### MultiLabel Classifier for Toxic Comments Classifier"
      ],
      "metadata": {
        "id": "gPG5gSbwaucb"
      }
    },
    {
      "cell_type": "markdown",
      "source": [
        "Author: Md Junaid Alam"
      ],
      "metadata": {
        "id": "Zod912tfa2w8"
      }
    },
    {
      "cell_type": "code",
      "source": [
        "!pip install scikit-multilearn"
      ],
      "metadata": {
        "colab": {
          "base_uri": "https://localhost:8080/"
        },
        "id": "3j-QvQumH_zN",
        "outputId": "c591161e-ffd7-4d0e-9a9c-eb8d17ced9e4"
      },
      "execution_count": 11,
      "outputs": [
        {
          "output_type": "stream",
          "name": "stdout",
          "text": [
            "Looking in indexes: https://pypi.org/simple, https://us-python.pkg.dev/colab-wheels/public/simple/\n",
            "Requirement already satisfied: scikit-multilearn in /usr/local/lib/python3.9/dist-packages (0.2.0)\n"
          ]
        }
      ]
    },
    {
      "cell_type": "code",
      "source": [
        "# Import nltk libraries and download\n",
        "import nltk\n",
        "nltk.download('stopwords')\n",
        "nltk.download('wordnet')\n",
        "nltk.download('omw-1.4')"
      ],
      "metadata": {
        "colab": {
          "base_uri": "https://localhost:8080/"
        },
        "id": "OsMrikkttew_",
        "outputId": "d172d752-b77e-4a45-a14f-03dbd5f906be"
      },
      "execution_count": 12,
      "outputs": [
        {
          "output_type": "stream",
          "name": "stderr",
          "text": [
            "[nltk_data] Downloading package stopwords to /root/nltk_data...\n",
            "[nltk_data]   Package stopwords is already up-to-date!\n",
            "[nltk_data] Downloading package wordnet to /root/nltk_data...\n",
            "[nltk_data]   Package wordnet is already up-to-date!\n",
            "[nltk_data] Downloading package omw-1.4 to /root/nltk_data...\n",
            "[nltk_data]   Package omw-1.4 is already up-to-date!\n"
          ]
        },
        {
          "output_type": "execute_result",
          "data": {
            "text/plain": [
              "True"
            ]
          },
          "metadata": {},
          "execution_count": 12
        }
      ]
    },
    {
      "cell_type": "code",
      "execution_count": 13,
      "metadata": {
        "id": "vY1wlyTWHjz2"
      },
      "outputs": [],
      "source": [
        "import pandas as pd\n",
        "import numpy as np\n",
        "import matplotlib.pyplot as plt\n",
        "import seaborn as sns\n",
        "\n",
        "from sklearn.linear_model import LogisticRegression\n",
        "from sklearn.neighbors import KNeighborsClassifier\n",
        "from sklearn.tree import DecisionTreeClassifier\n",
        "from sklearn.naive_bayes import GaussianNB,MultinomialNB\n",
        "from sklearn.metrics import accuracy_score,hamming_loss,classification_report\n",
        "\n",
        "from sklearn.model_selection import train_test_split\n",
        "from sklearn.feature_extraction.text import TfidfVectorizer\n",
        "\n",
        "from skmultilearn.problem_transform import BinaryRelevance\n",
        "from skmultilearn.problem_transform import ClassifierChain\n",
        "from skmultilearn.problem_transform import LabelPowerset\n",
        "from skmultilearn.adapt import MLkNN\n",
        "\n",
        "import re\n",
        "from nltk.stem.wordnet import WordNetLemmatizer \n",
        "from nltk.tokenize import word_tokenize, TweetTokenizer\n",
        "from nltk.corpus import stopwords"
      ]
    },
    {
      "cell_type": "code",
      "source": [
        "lem = WordNetLemmatizer()\n",
        "tokenizer=TweetTokenizer()\n",
        "eng_stopwords = set(stopwords.words(\"english\"))"
      ],
      "metadata": {
        "id": "Oh9ctK0Lsqb4"
      },
      "execution_count": 14,
      "outputs": []
    },
    {
      "cell_type": "code",
      "source": [
        "# Download the train.csv from the google drive by providing its Unique ID\n",
        "! gdown 1hdJ8HxCOeS7ZCtCGPLNfKoWt4h_8qJUV"
      ],
      "metadata": {
        "colab": {
          "base_uri": "https://localhost:8080/"
        },
        "id": "q7pWtgEZIej1",
        "outputId": "38d6d20d-4c20-4463-e4df-2297e7d1b4a7"
      },
      "execution_count": 15,
      "outputs": [
        {
          "output_type": "stream",
          "name": "stdout",
          "text": [
            "Downloading...\n",
            "From: https://drive.google.com/uc?id=1hdJ8HxCOeS7ZCtCGPLNfKoWt4h_8qJUV\n",
            "To: /content/train.csv\n",
            "100% 68.8M/68.8M [00:00<00:00, 146MB/s]\n"
          ]
        }
      ]
    },
    {
      "cell_type": "code",
      "source": [
        "# Load Dataset\n",
        "df = pd.read_csv(\"/content/train.csv\")"
      ],
      "metadata": {
        "id": "NS6slziXIKap"
      },
      "execution_count": 16,
      "outputs": []
    },
    {
      "cell_type": "code",
      "source": [
        "df.sample(10)"
      ],
      "metadata": {
        "colab": {
          "base_uri": "https://localhost:8080/",
          "height": 363
        },
        "id": "e8TNgDp8Infq",
        "outputId": "1d605514-c86c-41b1-c23d-b6b1b36a7e0b"
      },
      "execution_count": 17,
      "outputs": [
        {
          "output_type": "execute_result",
          "data": {
            "text/plain": [
              "                      id                                       comment_text  \\\n",
              "156337  ccb30b8a04538cc0  message \\n\\nDude, this is the Internet, not ou...   \n",
              "156439  ce306da96cb87b7d  \":The \"\"rampant speculation\"\" was a cited stat...   \n",
              "11794   1f2fb372744e39cc  \"It does not matter if they disclaim it's trut...   \n",
              "64639   acfdfbeff63718ff                  One possible solution maybe could   \n",
              "48022   80462cbcbf03c896  \"\\n\\n A barnstar for you! \\n\\n  The Teamwork B...   \n",
              "58240   9bed30929596f984  That's more or less finished now if you want t...   \n",
              "67377   b4482442dad4b563     \"\\nI'm afraid I can't go on hearsay.  «Talk» \"   \n",
              "27872   49c8a2ea474bedf9  yes i do. have sourced the ones needing it, oo...   \n",
              "41403   6e708337fe2287df  OMG\\nTHIS THING IS TOO LONG!!!!!!!!please shor...   \n",
              "35407   5e8f520b9af4897c  get a life you stupid wikipedia nerd seriosly ...   \n",
              "\n",
              "        toxic  severe_toxic  obscene  threat  insult  identity_hate  \n",
              "156337      1             0        1       0       1              0  \n",
              "156439      0             0        0       0       0              0  \n",
              "11794       0             0        0       0       0              0  \n",
              "64639       0             0        0       0       0              0  \n",
              "48022       0             0        0       0       0              0  \n",
              "58240       0             0        0       0       0              0  \n",
              "67377       0             0        0       0       0              0  \n",
              "27872       0             0        0       0       0              0  \n",
              "41403       0             0        0       0       0              0  \n",
              "35407       1             0        1       0       1              0  "
            ],
            "text/html": [
              "\n",
              "  <div id=\"df-327ab6c3-8397-481e-9c0a-fe3cd2b62faf\">\n",
              "    <div class=\"colab-df-container\">\n",
              "      <div>\n",
              "<style scoped>\n",
              "    .dataframe tbody tr th:only-of-type {\n",
              "        vertical-align: middle;\n",
              "    }\n",
              "\n",
              "    .dataframe tbody tr th {\n",
              "        vertical-align: top;\n",
              "    }\n",
              "\n",
              "    .dataframe thead th {\n",
              "        text-align: right;\n",
              "    }\n",
              "</style>\n",
              "<table border=\"1\" class=\"dataframe\">\n",
              "  <thead>\n",
              "    <tr style=\"text-align: right;\">\n",
              "      <th></th>\n",
              "      <th>id</th>\n",
              "      <th>comment_text</th>\n",
              "      <th>toxic</th>\n",
              "      <th>severe_toxic</th>\n",
              "      <th>obscene</th>\n",
              "      <th>threat</th>\n",
              "      <th>insult</th>\n",
              "      <th>identity_hate</th>\n",
              "    </tr>\n",
              "  </thead>\n",
              "  <tbody>\n",
              "    <tr>\n",
              "      <th>156337</th>\n",
              "      <td>ccb30b8a04538cc0</td>\n",
              "      <td>message \\n\\nDude, this is the Internet, not ou...</td>\n",
              "      <td>1</td>\n",
              "      <td>0</td>\n",
              "      <td>1</td>\n",
              "      <td>0</td>\n",
              "      <td>1</td>\n",
              "      <td>0</td>\n",
              "    </tr>\n",
              "    <tr>\n",
              "      <th>156439</th>\n",
              "      <td>ce306da96cb87b7d</td>\n",
              "      <td>\":The \"\"rampant speculation\"\" was a cited stat...</td>\n",
              "      <td>0</td>\n",
              "      <td>0</td>\n",
              "      <td>0</td>\n",
              "      <td>0</td>\n",
              "      <td>0</td>\n",
              "      <td>0</td>\n",
              "    </tr>\n",
              "    <tr>\n",
              "      <th>11794</th>\n",
              "      <td>1f2fb372744e39cc</td>\n",
              "      <td>\"It does not matter if they disclaim it's trut...</td>\n",
              "      <td>0</td>\n",
              "      <td>0</td>\n",
              "      <td>0</td>\n",
              "      <td>0</td>\n",
              "      <td>0</td>\n",
              "      <td>0</td>\n",
              "    </tr>\n",
              "    <tr>\n",
              "      <th>64639</th>\n",
              "      <td>acfdfbeff63718ff</td>\n",
              "      <td>One possible solution maybe could</td>\n",
              "      <td>0</td>\n",
              "      <td>0</td>\n",
              "      <td>0</td>\n",
              "      <td>0</td>\n",
              "      <td>0</td>\n",
              "      <td>0</td>\n",
              "    </tr>\n",
              "    <tr>\n",
              "      <th>48022</th>\n",
              "      <td>80462cbcbf03c896</td>\n",
              "      <td>\"\\n\\n A barnstar for you! \\n\\n  The Teamwork B...</td>\n",
              "      <td>0</td>\n",
              "      <td>0</td>\n",
              "      <td>0</td>\n",
              "      <td>0</td>\n",
              "      <td>0</td>\n",
              "      <td>0</td>\n",
              "    </tr>\n",
              "    <tr>\n",
              "      <th>58240</th>\n",
              "      <td>9bed30929596f984</td>\n",
              "      <td>That's more or less finished now if you want t...</td>\n",
              "      <td>0</td>\n",
              "      <td>0</td>\n",
              "      <td>0</td>\n",
              "      <td>0</td>\n",
              "      <td>0</td>\n",
              "      <td>0</td>\n",
              "    </tr>\n",
              "    <tr>\n",
              "      <th>67377</th>\n",
              "      <td>b4482442dad4b563</td>\n",
              "      <td>\"\\nI'm afraid I can't go on hearsay.  «Talk» \"</td>\n",
              "      <td>0</td>\n",
              "      <td>0</td>\n",
              "      <td>0</td>\n",
              "      <td>0</td>\n",
              "      <td>0</td>\n",
              "      <td>0</td>\n",
              "    </tr>\n",
              "    <tr>\n",
              "      <th>27872</th>\n",
              "      <td>49c8a2ea474bedf9</td>\n",
              "      <td>yes i do. have sourced the ones needing it, oo...</td>\n",
              "      <td>0</td>\n",
              "      <td>0</td>\n",
              "      <td>0</td>\n",
              "      <td>0</td>\n",
              "      <td>0</td>\n",
              "      <td>0</td>\n",
              "    </tr>\n",
              "    <tr>\n",
              "      <th>41403</th>\n",
              "      <td>6e708337fe2287df</td>\n",
              "      <td>OMG\\nTHIS THING IS TOO LONG!!!!!!!!please shor...</td>\n",
              "      <td>0</td>\n",
              "      <td>0</td>\n",
              "      <td>0</td>\n",
              "      <td>0</td>\n",
              "      <td>0</td>\n",
              "      <td>0</td>\n",
              "    </tr>\n",
              "    <tr>\n",
              "      <th>35407</th>\n",
              "      <td>5e8f520b9af4897c</td>\n",
              "      <td>get a life you stupid wikipedia nerd seriosly ...</td>\n",
              "      <td>1</td>\n",
              "      <td>0</td>\n",
              "      <td>1</td>\n",
              "      <td>0</td>\n",
              "      <td>1</td>\n",
              "      <td>0</td>\n",
              "    </tr>\n",
              "  </tbody>\n",
              "</table>\n",
              "</div>\n",
              "      <button class=\"colab-df-convert\" onclick=\"convertToInteractive('df-327ab6c3-8397-481e-9c0a-fe3cd2b62faf')\"\n",
              "              title=\"Convert this dataframe to an interactive table.\"\n",
              "              style=\"display:none;\">\n",
              "        \n",
              "  <svg xmlns=\"http://www.w3.org/2000/svg\" height=\"24px\"viewBox=\"0 0 24 24\"\n",
              "       width=\"24px\">\n",
              "    <path d=\"M0 0h24v24H0V0z\" fill=\"none\"/>\n",
              "    <path d=\"M18.56 5.44l.94 2.06.94-2.06 2.06-.94-2.06-.94-.94-2.06-.94 2.06-2.06.94zm-11 1L8.5 8.5l.94-2.06 2.06-.94-2.06-.94L8.5 2.5l-.94 2.06-2.06.94zm10 10l.94 2.06.94-2.06 2.06-.94-2.06-.94-.94-2.06-.94 2.06-2.06.94z\"/><path d=\"M17.41 7.96l-1.37-1.37c-.4-.4-.92-.59-1.43-.59-.52 0-1.04.2-1.43.59L10.3 9.45l-7.72 7.72c-.78.78-.78 2.05 0 2.83L4 21.41c.39.39.9.59 1.41.59.51 0 1.02-.2 1.41-.59l7.78-7.78 2.81-2.81c.8-.78.8-2.07 0-2.86zM5.41 20L4 18.59l7.72-7.72 1.47 1.35L5.41 20z\"/>\n",
              "  </svg>\n",
              "      </button>\n",
              "      \n",
              "  <style>\n",
              "    .colab-df-container {\n",
              "      display:flex;\n",
              "      flex-wrap:wrap;\n",
              "      gap: 12px;\n",
              "    }\n",
              "\n",
              "    .colab-df-convert {\n",
              "      background-color: #E8F0FE;\n",
              "      border: none;\n",
              "      border-radius: 50%;\n",
              "      cursor: pointer;\n",
              "      display: none;\n",
              "      fill: #1967D2;\n",
              "      height: 32px;\n",
              "      padding: 0 0 0 0;\n",
              "      width: 32px;\n",
              "    }\n",
              "\n",
              "    .colab-df-convert:hover {\n",
              "      background-color: #E2EBFA;\n",
              "      box-shadow: 0px 1px 2px rgba(60, 64, 67, 0.3), 0px 1px 3px 1px rgba(60, 64, 67, 0.15);\n",
              "      fill: #174EA6;\n",
              "    }\n",
              "\n",
              "    [theme=dark] .colab-df-convert {\n",
              "      background-color: #3B4455;\n",
              "      fill: #D2E3FC;\n",
              "    }\n",
              "\n",
              "    [theme=dark] .colab-df-convert:hover {\n",
              "      background-color: #434B5C;\n",
              "      box-shadow: 0px 1px 3px 1px rgba(0, 0, 0, 0.15);\n",
              "      filter: drop-shadow(0px 1px 2px rgba(0, 0, 0, 0.3));\n",
              "      fill: #FFFFFF;\n",
              "    }\n",
              "  </style>\n",
              "\n",
              "      <script>\n",
              "        const buttonEl =\n",
              "          document.querySelector('#df-327ab6c3-8397-481e-9c0a-fe3cd2b62faf button.colab-df-convert');\n",
              "        buttonEl.style.display =\n",
              "          google.colab.kernel.accessAllowed ? 'block' : 'none';\n",
              "\n",
              "        async function convertToInteractive(key) {\n",
              "          const element = document.querySelector('#df-327ab6c3-8397-481e-9c0a-fe3cd2b62faf');\n",
              "          const dataTable =\n",
              "            await google.colab.kernel.invokeFunction('convertToInteractive',\n",
              "                                                     [key], {});\n",
              "          if (!dataTable) return;\n",
              "\n",
              "          const docLinkHtml = 'Like what you see? Visit the ' +\n",
              "            '<a target=\"_blank\" href=https://colab.research.google.com/notebooks/data_table.ipynb>data table notebook</a>'\n",
              "            + ' to learn more about interactive tables.';\n",
              "          element.innerHTML = '';\n",
              "          dataTable['output_type'] = 'display_data';\n",
              "          await google.colab.output.renderOutput(dataTable, element);\n",
              "          const docLink = document.createElement('div');\n",
              "          docLink.innerHTML = docLinkHtml;\n",
              "          element.appendChild(docLink);\n",
              "        }\n",
              "      </script>\n",
              "    </div>\n",
              "  </div>\n",
              "  "
            ]
          },
          "metadata": {},
          "execution_count": 17
        }
      ]
    },
    {
      "cell_type": "code",
      "source": [
        "df[\"toxic\"].value_counts()"
      ],
      "metadata": {
        "colab": {
          "base_uri": "https://localhost:8080/"
        },
        "id": "rNy0V88eIva9",
        "outputId": "a118a861-499e-433b-808b-16eb67976521"
      },
      "execution_count": 18,
      "outputs": [
        {
          "output_type": "execute_result",
          "data": {
            "text/plain": [
              "0    144277\n",
              "1     15294\n",
              "Name: toxic, dtype: int64"
            ]
          },
          "metadata": {},
          "execution_count": 18
        }
      ]
    },
    {
      "cell_type": "code",
      "source": [
        "df[\"severe_toxic\"].value_counts()"
      ],
      "metadata": {
        "colab": {
          "base_uri": "https://localhost:8080/"
        },
        "id": "92IOn4HvI8d_",
        "outputId": "23c5c66c-dc6b-4e7d-89c8-a33daf3325f8"
      },
      "execution_count": 19,
      "outputs": [
        {
          "output_type": "execute_result",
          "data": {
            "text/plain": [
              "0    157976\n",
              "1      1595\n",
              "Name: severe_toxic, dtype: int64"
            ]
          },
          "metadata": {},
          "execution_count": 19
        }
      ]
    },
    {
      "cell_type": "code",
      "source": [
        "# Create a dictionary of Aphost lookup\n",
        "APHOST_LOOKUP = {\n",
        "\"aren't\" : \"are not\",\n",
        "\"can't\" : \"cannot\",\n",
        "\"couldn't\" : \"could not\",\n",
        "\"didn't\" : \"did not\",\n",
        "\"doesn't\" : \"does not\",\n",
        "\"don't\" : \"do not\",\n",
        "\"hadn't\" : \"had not\",\n",
        "\"hasn't\" : \"has not\",\n",
        "\"haven't\" : \"have not\",\n",
        "\"he'd\" : \"he would\",\n",
        "\"he'll\" : \"he will\",\n",
        "\"he's\" : \"he is\",\n",
        "\"i'd\" : \"I would\",\n",
        "\"i'd\" : \"I had\",\n",
        "\"i'll\" : \"I will\",\n",
        "\"i'm\" : \"I am\",\n",
        "\"isn't\" : \"is not\",\n",
        "\"it's\" : \"it is\",\n",
        "\"it'll\":\"it will\",\n",
        "\"i've\" : \"I have\",\n",
        "\"let's\" : \"let us\",\n",
        "\"mightn't\" : \"might not\",\n",
        "\"mustn't\" : \"must not\",\n",
        "\"shan't\" : \"shall not\",\n",
        "\"she'd\" : \"she would\",\n",
        "\"she'll\" : \"she will\",\n",
        "\"she's\" : \"she is\",\n",
        "\"shouldn't\" : \"should not\",\n",
        "\"that's\" : \"that is\",\n",
        "\"there's\" : \"there is\",\n",
        "\"they'd\" : \"they would\",\n",
        "\"they'll\" : \"they will\",\n",
        "\"they're\" : \"they are\",\n",
        "\"they've\" : \"they have\",\n",
        "\"we'd\" : \"we would\",\n",
        "\"we're\" : \"we are\",\n",
        "\"weren't\" : \"were not\",\n",
        "\"we've\" : \"we have\",\n",
        "\"what'll\" : \"what will\",\n",
        "\"what're\" : \"what are\",\n",
        "\"what's\" : \"what is\",\n",
        "\"what've\" : \"what have\",\n",
        "\"where's\" : \"where is\",\n",
        "\"who'd\" : \"who would\",\n",
        "\"who'll\" : \"who will\",\n",
        "\"who're\" : \"who are\",\n",
        "\"who's\" : \"who is\",\n",
        "\"who've\" : \"who have\",\n",
        "\"won't\" : \"will not\",\n",
        "\"wouldn't\" : \"would not\",\n",
        "\"you'd\" : \"you would\",\n",
        "\"you'll\" : \"you will\",\n",
        "\"you're\" : \"you are\",\n",
        "\"you've\" : \"you have\",\n",
        "\"'re\": \" are\",\n",
        "\"wasn't\": \"was not\",\n",
        "\"we'll\":\" will\",\n",
        "\"didn't\": \"did not\",\n",
        "\"tryin'\":\"trying\"\n",
        "}"
      ],
      "metadata": {
        "id": "LTU0l2HBmCgr"
      },
      "execution_count": 20,
      "outputs": []
    },
    {
      "cell_type": "code",
      "source": [
        "# Define the function for data cleaning\n",
        "def clean_data_pipeline(comment):\n",
        "    comment=comment.lower() # Convert to lower case\n",
        "    comment=re.sub(\"\\\\n\",\"\",comment) # Remove new line\n",
        "    # Remove the leaky elements like ip,user\n",
        "    comment=re.sub(\"\\d{1,3}\\.\\d{1,3}\\.\\d{1,3}\\.\\d{1,3}\",\"\",comment)\n",
        "    comment=re.sub(\"\\[\\[.*\\]\",\"\",comment) # Remove users\n",
        "    words=tokenizer.tokenize(comment) # Tokenize into words\n",
        "    # Replace apostrophe with reference to the Aphost Dictionary \n",
        "    words=[APHOST_LOOKUP[word] if word in APHOST_LOOKUP else word for word in words]\n",
        "    words=[lem.lemmatize(word, \"v\") for word in words] # Lemmatization\n",
        "    words = [w for w in words if not w in eng_stopwords] # Remove stopwords\n",
        "    clean_sent=\" \".join(words)\n",
        "    return(clean_sent)"
      ],
      "metadata": {
        "id": "16i25cTZl5zF"
      },
      "execution_count": 21,
      "outputs": []
    },
    {
      "cell_type": "code",
      "source": [
        "#corpus = df['comment_text'].apply(nfx.remove_stopwords)\n",
        "corpus = df['comment_text'].apply(clean_data_pipeline)"
      ],
      "metadata": {
        "id": "D03FNU8AJ4Vg"
      },
      "execution_count": 22,
      "outputs": []
    },
    {
      "cell_type": "markdown",
      "source": [
        "## Feature Engineering"
      ],
      "metadata": {
        "id": "jT9aA7i_KGjg"
      }
    },
    {
      "cell_type": "code",
      "source": [
        "# Initiate a TF-IDF Vectorizer\n",
        "tfidf = TfidfVectorizer(min_df=100,  max_features=30000)"
      ],
      "metadata": {
        "id": "NKXHuumiKCrH"
      },
      "execution_count": 23,
      "outputs": []
    },
    {
      "cell_type": "code",
      "source": [
        "# Generate vectorized features features\n",
        "Xfeatures = tfidf.fit_transform(corpus).toarray()"
      ],
      "metadata": {
        "id": "hwMVRxVOKPXI"
      },
      "execution_count": 24,
      "outputs": []
    },
    {
      "cell_type": "code",
      "source": [
        "# Examine samples\n",
        "df.sample(10)"
      ],
      "metadata": {
        "id": "slpCcZ7rKT1y",
        "colab": {
          "base_uri": "https://localhost:8080/",
          "height": 363
        },
        "outputId": "2408d49e-aba8-4cba-cbb4-d0584eaac79a"
      },
      "execution_count": 25,
      "outputs": [
        {
          "output_type": "execute_result",
          "data": {
            "text/plain": [
              "                      id                                       comment_text  \\\n",
              "156106  c911b71975441c3d                              mR. DEARING ROCKS ON!   \n",
              "26925   474ce6f0100b7508  \"\\n\\n What sport did he block in, in HS? \\n\\nI...   \n",
              "52198   8ba65566fc792a7d              another, well-intentioned editor puts   \n",
              "156738  d2eac3d3e3b87e8e  Calling you a dildo is not vandalism (seriousl...   \n",
              "52651   8cc968809c0baade  You Haven't a Clue \\n\\nYou Haven't a clue what...   \n",
              "13758   2451f6f8c1b690c9  (UTC)\\n\\nThings are not this simple. There is ...   \n",
              "144763  11f66f5616c690ab  U are a bitch nigga. Fuck u and the guy who bl...   \n",
              "24696   414ace4068d42441  Also, it's well known that slavic women don't ...   \n",
              "144802  12b17308407fffd4  \"\\n\\n The two studies are prominently discusse...   \n",
              "152094  87d8a2ccc4debc98  One or more users of this I.P. address repeate...   \n",
              "\n",
              "        toxic  severe_toxic  obscene  threat  insult  identity_hate  \n",
              "156106      0             0        0       0       0              0  \n",
              "26925       0             0        0       0       0              0  \n",
              "52198       0             0        0       0       0              0  \n",
              "156738      1             0        0       0       0              0  \n",
              "52651       1             0        1       0       0              0  \n",
              "13758       0             0        0       0       0              0  \n",
              "144763      1             0        1       0       1              1  \n",
              "24696       1             0        1       0       1              1  \n",
              "144802      0             0        0       0       0              0  \n",
              "152094      0             0        0       0       0              0  "
            ],
            "text/html": [
              "\n",
              "  <div id=\"df-a9202dfd-e5df-46b1-a914-f32298ae4898\">\n",
              "    <div class=\"colab-df-container\">\n",
              "      <div>\n",
              "<style scoped>\n",
              "    .dataframe tbody tr th:only-of-type {\n",
              "        vertical-align: middle;\n",
              "    }\n",
              "\n",
              "    .dataframe tbody tr th {\n",
              "        vertical-align: top;\n",
              "    }\n",
              "\n",
              "    .dataframe thead th {\n",
              "        text-align: right;\n",
              "    }\n",
              "</style>\n",
              "<table border=\"1\" class=\"dataframe\">\n",
              "  <thead>\n",
              "    <tr style=\"text-align: right;\">\n",
              "      <th></th>\n",
              "      <th>id</th>\n",
              "      <th>comment_text</th>\n",
              "      <th>toxic</th>\n",
              "      <th>severe_toxic</th>\n",
              "      <th>obscene</th>\n",
              "      <th>threat</th>\n",
              "      <th>insult</th>\n",
              "      <th>identity_hate</th>\n",
              "    </tr>\n",
              "  </thead>\n",
              "  <tbody>\n",
              "    <tr>\n",
              "      <th>156106</th>\n",
              "      <td>c911b71975441c3d</td>\n",
              "      <td>mR. DEARING ROCKS ON!</td>\n",
              "      <td>0</td>\n",
              "      <td>0</td>\n",
              "      <td>0</td>\n",
              "      <td>0</td>\n",
              "      <td>0</td>\n",
              "      <td>0</td>\n",
              "    </tr>\n",
              "    <tr>\n",
              "      <th>26925</th>\n",
              "      <td>474ce6f0100b7508</td>\n",
              "      <td>\"\\n\\n What sport did he block in, in HS? \\n\\nI...</td>\n",
              "      <td>0</td>\n",
              "      <td>0</td>\n",
              "      <td>0</td>\n",
              "      <td>0</td>\n",
              "      <td>0</td>\n",
              "      <td>0</td>\n",
              "    </tr>\n",
              "    <tr>\n",
              "      <th>52198</th>\n",
              "      <td>8ba65566fc792a7d</td>\n",
              "      <td>another, well-intentioned editor puts</td>\n",
              "      <td>0</td>\n",
              "      <td>0</td>\n",
              "      <td>0</td>\n",
              "      <td>0</td>\n",
              "      <td>0</td>\n",
              "      <td>0</td>\n",
              "    </tr>\n",
              "    <tr>\n",
              "      <th>156738</th>\n",
              "      <td>d2eac3d3e3b87e8e</td>\n",
              "      <td>Calling you a dildo is not vandalism (seriousl...</td>\n",
              "      <td>1</td>\n",
              "      <td>0</td>\n",
              "      <td>0</td>\n",
              "      <td>0</td>\n",
              "      <td>0</td>\n",
              "      <td>0</td>\n",
              "    </tr>\n",
              "    <tr>\n",
              "      <th>52651</th>\n",
              "      <td>8cc968809c0baade</td>\n",
              "      <td>You Haven't a Clue \\n\\nYou Haven't a clue what...</td>\n",
              "      <td>1</td>\n",
              "      <td>0</td>\n",
              "      <td>1</td>\n",
              "      <td>0</td>\n",
              "      <td>0</td>\n",
              "      <td>0</td>\n",
              "    </tr>\n",
              "    <tr>\n",
              "      <th>13758</th>\n",
              "      <td>2451f6f8c1b690c9</td>\n",
              "      <td>(UTC)\\n\\nThings are not this simple. There is ...</td>\n",
              "      <td>0</td>\n",
              "      <td>0</td>\n",
              "      <td>0</td>\n",
              "      <td>0</td>\n",
              "      <td>0</td>\n",
              "      <td>0</td>\n",
              "    </tr>\n",
              "    <tr>\n",
              "      <th>144763</th>\n",
              "      <td>11f66f5616c690ab</td>\n",
              "      <td>U are a bitch nigga. Fuck u and the guy who bl...</td>\n",
              "      <td>1</td>\n",
              "      <td>0</td>\n",
              "      <td>1</td>\n",
              "      <td>0</td>\n",
              "      <td>1</td>\n",
              "      <td>1</td>\n",
              "    </tr>\n",
              "    <tr>\n",
              "      <th>24696</th>\n",
              "      <td>414ace4068d42441</td>\n",
              "      <td>Also, it's well known that slavic women don't ...</td>\n",
              "      <td>1</td>\n",
              "      <td>0</td>\n",
              "      <td>1</td>\n",
              "      <td>0</td>\n",
              "      <td>1</td>\n",
              "      <td>1</td>\n",
              "    </tr>\n",
              "    <tr>\n",
              "      <th>144802</th>\n",
              "      <td>12b17308407fffd4</td>\n",
              "      <td>\"\\n\\n The two studies are prominently discusse...</td>\n",
              "      <td>0</td>\n",
              "      <td>0</td>\n",
              "      <td>0</td>\n",
              "      <td>0</td>\n",
              "      <td>0</td>\n",
              "      <td>0</td>\n",
              "    </tr>\n",
              "    <tr>\n",
              "      <th>152094</th>\n",
              "      <td>87d8a2ccc4debc98</td>\n",
              "      <td>One or more users of this I.P. address repeate...</td>\n",
              "      <td>0</td>\n",
              "      <td>0</td>\n",
              "      <td>0</td>\n",
              "      <td>0</td>\n",
              "      <td>0</td>\n",
              "      <td>0</td>\n",
              "    </tr>\n",
              "  </tbody>\n",
              "</table>\n",
              "</div>\n",
              "      <button class=\"colab-df-convert\" onclick=\"convertToInteractive('df-a9202dfd-e5df-46b1-a914-f32298ae4898')\"\n",
              "              title=\"Convert this dataframe to an interactive table.\"\n",
              "              style=\"display:none;\">\n",
              "        \n",
              "  <svg xmlns=\"http://www.w3.org/2000/svg\" height=\"24px\"viewBox=\"0 0 24 24\"\n",
              "       width=\"24px\">\n",
              "    <path d=\"M0 0h24v24H0V0z\" fill=\"none\"/>\n",
              "    <path d=\"M18.56 5.44l.94 2.06.94-2.06 2.06-.94-2.06-.94-.94-2.06-.94 2.06-2.06.94zm-11 1L8.5 8.5l.94-2.06 2.06-.94-2.06-.94L8.5 2.5l-.94 2.06-2.06.94zm10 10l.94 2.06.94-2.06 2.06-.94-2.06-.94-.94-2.06-.94 2.06-2.06.94z\"/><path d=\"M17.41 7.96l-1.37-1.37c-.4-.4-.92-.59-1.43-.59-.52 0-1.04.2-1.43.59L10.3 9.45l-7.72 7.72c-.78.78-.78 2.05 0 2.83L4 21.41c.39.39.9.59 1.41.59.51 0 1.02-.2 1.41-.59l7.78-7.78 2.81-2.81c.8-.78.8-2.07 0-2.86zM5.41 20L4 18.59l7.72-7.72 1.47 1.35L5.41 20z\"/>\n",
              "  </svg>\n",
              "      </button>\n",
              "      \n",
              "  <style>\n",
              "    .colab-df-container {\n",
              "      display:flex;\n",
              "      flex-wrap:wrap;\n",
              "      gap: 12px;\n",
              "    }\n",
              "\n",
              "    .colab-df-convert {\n",
              "      background-color: #E8F0FE;\n",
              "      border: none;\n",
              "      border-radius: 50%;\n",
              "      cursor: pointer;\n",
              "      display: none;\n",
              "      fill: #1967D2;\n",
              "      height: 32px;\n",
              "      padding: 0 0 0 0;\n",
              "      width: 32px;\n",
              "    }\n",
              "\n",
              "    .colab-df-convert:hover {\n",
              "      background-color: #E2EBFA;\n",
              "      box-shadow: 0px 1px 2px rgba(60, 64, 67, 0.3), 0px 1px 3px 1px rgba(60, 64, 67, 0.15);\n",
              "      fill: #174EA6;\n",
              "    }\n",
              "\n",
              "    [theme=dark] .colab-df-convert {\n",
              "      background-color: #3B4455;\n",
              "      fill: #D2E3FC;\n",
              "    }\n",
              "\n",
              "    [theme=dark] .colab-df-convert:hover {\n",
              "      background-color: #434B5C;\n",
              "      box-shadow: 0px 1px 3px 1px rgba(0, 0, 0, 0.15);\n",
              "      filter: drop-shadow(0px 1px 2px rgba(0, 0, 0, 0.3));\n",
              "      fill: #FFFFFF;\n",
              "    }\n",
              "  </style>\n",
              "\n",
              "      <script>\n",
              "        const buttonEl =\n",
              "          document.querySelector('#df-a9202dfd-e5df-46b1-a914-f32298ae4898 button.colab-df-convert');\n",
              "        buttonEl.style.display =\n",
              "          google.colab.kernel.accessAllowed ? 'block' : 'none';\n",
              "\n",
              "        async function convertToInteractive(key) {\n",
              "          const element = document.querySelector('#df-a9202dfd-e5df-46b1-a914-f32298ae4898');\n",
              "          const dataTable =\n",
              "            await google.colab.kernel.invokeFunction('convertToInteractive',\n",
              "                                                     [key], {});\n",
              "          if (!dataTable) return;\n",
              "\n",
              "          const docLinkHtml = 'Like what you see? Visit the ' +\n",
              "            '<a target=\"_blank\" href=https://colab.research.google.com/notebooks/data_table.ipynb>data table notebook</a>'\n",
              "            + ' to learn more about interactive tables.';\n",
              "          element.innerHTML = '';\n",
              "          dataTable['output_type'] = 'display_data';\n",
              "          await google.colab.output.renderOutput(dataTable, element);\n",
              "          const docLink = document.createElement('div');\n",
              "          docLink.innerHTML = docLinkHtml;\n",
              "          element.appendChild(docLink);\n",
              "        }\n",
              "      </script>\n",
              "    </div>\n",
              "  </div>\n",
              "  "
            ]
          },
          "metadata": {},
          "execution_count": 25
        }
      ]
    },
    {
      "cell_type": "code",
      "source": [
        "# Get the columns related to toxicity\n",
        "y = df[['toxic', 'severe_toxic', 'obscene',\t'threat','insult', 'identity_hate']]"
      ],
      "metadata": {
        "id": "Oi2aeGRBK-CU"
      },
      "execution_count": 26,
      "outputs": []
    },
    {
      "cell_type": "code",
      "source": [
        "# Split Data \n",
        "X_train,X_test,y_train,y_test = train_test_split(Xfeatures,y,test_size=0.3,random_state=42)"
      ],
      "metadata": {
        "id": "JKECFbDGKkIw"
      },
      "execution_count": 27,
      "outputs": []
    },
    {
      "cell_type": "markdown",
      "source": [
        "### Binary Relevance"
      ],
      "metadata": {
        "id": "kt4aixxOMQ1q"
      }
    },
    {
      "cell_type": "code",
      "source": [
        "# Multi-Label conversion to Multi-Class binary classification\n",
        "binary_rel_clf = BinaryRelevance(LogisticRegression())"
      ],
      "metadata": {
        "id": "2U8eEa8bMS6m"
      },
      "execution_count": 28,
      "outputs": []
    },
    {
      "cell_type": "code",
      "source": [
        "# Train the classifier\n",
        "binary_rel_clf.fit(X_train,y_train)"
      ],
      "metadata": {
        "id": "4BRRw4BdMXLM",
        "colab": {
          "base_uri": "https://localhost:8080/",
          "height": 117
        },
        "outputId": "724763b4-fab0-42b1-f623-70a86a7bb725"
      },
      "execution_count": 29,
      "outputs": [
        {
          "output_type": "execute_result",
          "data": {
            "text/plain": [
              "BinaryRelevance(classifier=LogisticRegression(), require_dense=[True, True])"
            ],
            "text/html": [
              "<style>#sk-container-id-1 {color: black;background-color: white;}#sk-container-id-1 pre{padding: 0;}#sk-container-id-1 div.sk-toggleable {background-color: white;}#sk-container-id-1 label.sk-toggleable__label {cursor: pointer;display: block;width: 100%;margin-bottom: 0;padding: 0.3em;box-sizing: border-box;text-align: center;}#sk-container-id-1 label.sk-toggleable__label-arrow:before {content: \"▸\";float: left;margin-right: 0.25em;color: #696969;}#sk-container-id-1 label.sk-toggleable__label-arrow:hover:before {color: black;}#sk-container-id-1 div.sk-estimator:hover label.sk-toggleable__label-arrow:before {color: black;}#sk-container-id-1 div.sk-toggleable__content {max-height: 0;max-width: 0;overflow: hidden;text-align: left;background-color: #f0f8ff;}#sk-container-id-1 div.sk-toggleable__content pre {margin: 0.2em;color: black;border-radius: 0.25em;background-color: #f0f8ff;}#sk-container-id-1 input.sk-toggleable__control:checked~div.sk-toggleable__content {max-height: 200px;max-width: 100%;overflow: auto;}#sk-container-id-1 input.sk-toggleable__control:checked~label.sk-toggleable__label-arrow:before {content: \"▾\";}#sk-container-id-1 div.sk-estimator input.sk-toggleable__control:checked~label.sk-toggleable__label {background-color: #d4ebff;}#sk-container-id-1 div.sk-label input.sk-toggleable__control:checked~label.sk-toggleable__label {background-color: #d4ebff;}#sk-container-id-1 input.sk-hidden--visually {border: 0;clip: rect(1px 1px 1px 1px);clip: rect(1px, 1px, 1px, 1px);height: 1px;margin: -1px;overflow: hidden;padding: 0;position: absolute;width: 1px;}#sk-container-id-1 div.sk-estimator {font-family: monospace;background-color: #f0f8ff;border: 1px dotted black;border-radius: 0.25em;box-sizing: border-box;margin-bottom: 0.5em;}#sk-container-id-1 div.sk-estimator:hover {background-color: #d4ebff;}#sk-container-id-1 div.sk-parallel-item::after {content: \"\";width: 100%;border-bottom: 1px solid gray;flex-grow: 1;}#sk-container-id-1 div.sk-label:hover label.sk-toggleable__label {background-color: #d4ebff;}#sk-container-id-1 div.sk-serial::before {content: \"\";position: absolute;border-left: 1px solid gray;box-sizing: border-box;top: 0;bottom: 0;left: 50%;z-index: 0;}#sk-container-id-1 div.sk-serial {display: flex;flex-direction: column;align-items: center;background-color: white;padding-right: 0.2em;padding-left: 0.2em;position: relative;}#sk-container-id-1 div.sk-item {position: relative;z-index: 1;}#sk-container-id-1 div.sk-parallel {display: flex;align-items: stretch;justify-content: center;background-color: white;position: relative;}#sk-container-id-1 div.sk-item::before, #sk-container-id-1 div.sk-parallel-item::before {content: \"\";position: absolute;border-left: 1px solid gray;box-sizing: border-box;top: 0;bottom: 0;left: 50%;z-index: -1;}#sk-container-id-1 div.sk-parallel-item {display: flex;flex-direction: column;z-index: 1;position: relative;background-color: white;}#sk-container-id-1 div.sk-parallel-item:first-child::after {align-self: flex-end;width: 50%;}#sk-container-id-1 div.sk-parallel-item:last-child::after {align-self: flex-start;width: 50%;}#sk-container-id-1 div.sk-parallel-item:only-child::after {width: 0;}#sk-container-id-1 div.sk-dashed-wrapped {border: 1px dashed gray;margin: 0 0.4em 0.5em 0.4em;box-sizing: border-box;padding-bottom: 0.4em;background-color: white;}#sk-container-id-1 div.sk-label label {font-family: monospace;font-weight: bold;display: inline-block;line-height: 1.2em;}#sk-container-id-1 div.sk-label-container {text-align: center;}#sk-container-id-1 div.sk-container {/* jupyter's `normalize.less` sets `[hidden] { display: none; }` but bootstrap.min.css set `[hidden] { display: none !important; }` so we also need the `!important` here to be able to override the default hidden behavior on the sphinx rendered scikit-learn.org. See: https://github.com/scikit-learn/scikit-learn/issues/21755 */display: inline-block !important;position: relative;}#sk-container-id-1 div.sk-text-repr-fallback {display: none;}</style><div id=\"sk-container-id-1\" class=\"sk-top-container\"><div class=\"sk-text-repr-fallback\"><pre>BinaryRelevance(classifier=LogisticRegression(), require_dense=[True, True])</pre><b>In a Jupyter environment, please rerun this cell to show the HTML representation or trust the notebook. <br />On GitHub, the HTML representation is unable to render, please try loading this page with nbviewer.org.</b></div><div class=\"sk-container\" hidden><div class=\"sk-item sk-dashed-wrapped\"><div class=\"sk-label-container\"><div class=\"sk-label sk-toggleable\"><input class=\"sk-toggleable__control sk-hidden--visually\" id=\"sk-estimator-id-1\" type=\"checkbox\" ><label for=\"sk-estimator-id-1\" class=\"sk-toggleable__label sk-toggleable__label-arrow\">BinaryRelevance</label><div class=\"sk-toggleable__content\"><pre>BinaryRelevance(classifier=LogisticRegression(), require_dense=[True, True])</pre></div></div></div><div class=\"sk-parallel\"><div class=\"sk-parallel-item\"><div class=\"sk-item\"><div class=\"sk-label-container\"><div class=\"sk-label sk-toggleable\"><input class=\"sk-toggleable__control sk-hidden--visually\" id=\"sk-estimator-id-2\" type=\"checkbox\" ><label for=\"sk-estimator-id-2\" class=\"sk-toggleable__label sk-toggleable__label-arrow\">classifier: LogisticRegression</label><div class=\"sk-toggleable__content\"><pre>LogisticRegression()</pre></div></div></div><div class=\"sk-serial\"><div class=\"sk-item\"><div class=\"sk-estimator sk-toggleable\"><input class=\"sk-toggleable__control sk-hidden--visually\" id=\"sk-estimator-id-3\" type=\"checkbox\" ><label for=\"sk-estimator-id-3\" class=\"sk-toggleable__label sk-toggleable__label-arrow\">LogisticRegression</label><div class=\"sk-toggleable__content\"><pre>LogisticRegression()</pre></div></div></div></div></div></div></div></div></div></div>"
            ]
          },
          "metadata": {},
          "execution_count": 29
        }
      ]
    },
    {
      "cell_type": "code",
      "source": [
        "# Make predictions\n",
        "br_prediction = binary_rel_clf.predict(X_test)"
      ],
      "metadata": {
        "id": "uDH6dS7GMcgO"
      },
      "execution_count": 30,
      "outputs": []
    },
    {
      "cell_type": "code",
      "source": [
        "#Check the accuracy\n",
        "accuracy_score(y_test,br_prediction)"
      ],
      "metadata": {
        "id": "kAGwQbNmMiQh",
        "colab": {
          "base_uri": "https://localhost:8080/"
        },
        "outputId": "d6899699-2f90-4e1c-be6f-5bac2204a758"
      },
      "execution_count": 31,
      "outputs": [
        {
          "output_type": "execute_result",
          "data": {
            "text/plain": [
              "0.9184283088235294"
            ]
          },
          "metadata": {},
          "execution_count": 31
        }
      ]
    },
    {
      "cell_type": "code",
      "source": [
        "# Check for the Hamming Loss which indicates incorrect prediction\n",
        "hamming_loss(y_test,br_prediction)"
      ],
      "metadata": {
        "id": "lQ__vgxRMlv0",
        "colab": {
          "base_uri": "https://localhost:8080/"
        },
        "outputId": "9e1b255d-1d17-4ce0-cdd4-a532a5def564"
      },
      "execution_count": 32,
      "outputs": [
        {
          "output_type": "execute_result",
          "data": {
            "text/plain": [
              "0.019468582887700536"
            ]
          },
          "metadata": {},
          "execution_count": 32
        }
      ]
    },
    {
      "cell_type": "markdown",
      "source": [
        "#### Classifier chains"
      ],
      "metadata": {
        "id": "Soyytx7DMse_"
      }
    },
    {
      "cell_type": "code",
      "source": [
        "def get_model_metrics(model,mlb_estimator,xtrain,ytrain,xtest,ytest):\n",
        "    # Create an Instance\n",
        "    clf = mlb_estimator(model)\n",
        "    clf.fit(xtrain,ytrain)\n",
        "    # Predict\n",
        "    clf_predictions = clf.predict(xtest)\n",
        "    # Check For Accuracy\n",
        "    acc = accuracy_score(ytest,clf_predictions)\n",
        "    ham = hamming_loss(ytest,clf_predictions)\n",
        "    result = {\"accuracy:\":acc,\"hamming_score\":ham}\n",
        "    return result"
      ],
      "metadata": {
        "id": "lnwf0P94MuY1"
      },
      "execution_count": 33,
      "outputs": []
    },
    {
      "cell_type": "code",
      "source": [
        "# Build a model chain using LogisticRegression\n",
        "clf_model_chained = get_model_metrics(LogisticRegression(),ClassifierChain,X_train,y_train,X_test,y_test)"
      ],
      "metadata": {
        "id": "ooAJHVxRMyhg",
        "colab": {
          "base_uri": "https://localhost:8080/"
        },
        "outputId": "7814ded9-1554-4bf2-f6f2-2754dbacef1d"
      },
      "execution_count": 34,
      "outputs": [
        {
          "output_type": "stream",
          "name": "stderr",
          "text": [
            "/usr/local/lib/python3.9/dist-packages/sklearn/linear_model/_logistic.py:458: ConvergenceWarning: lbfgs failed to converge (status=1):\n",
            "STOP: TOTAL NO. of ITERATIONS REACHED LIMIT.\n",
            "\n",
            "Increase the number of iterations (max_iter) or scale the data as shown in:\n",
            "    https://scikit-learn.org/stable/modules/preprocessing.html\n",
            "Please also refer to the documentation for alternative solver options:\n",
            "    https://scikit-learn.org/stable/modules/linear_model.html#logistic-regression\n",
            "  n_iter_i = _check_optimize_result(\n"
          ]
        }
      ]
    },
    {
      "cell_type": "code",
      "source": [
        "clf_model_chained"
      ],
      "metadata": {
        "id": "8JTWR-OdM07z",
        "colab": {
          "base_uri": "https://localhost:8080/"
        },
        "outputId": "6399e080-c25c-4e78-bf27-4d76609d6b1a"
      },
      "execution_count": 35,
      "outputs": [
        {
          "output_type": "execute_result",
          "data": {
            "text/plain": [
              "{'accuracy:': 0.9201412098930482, 'hamming_score': 0.019249247994652406}"
            ]
          },
          "metadata": {},
          "execution_count": 35
        }
      ]
    },
    {
      "cell_type": "markdown",
      "source": [
        "### Multilabel Classification"
      ],
      "metadata": {
        "id": "iDlyLZneM70T"
      }
    },
    {
      "cell_type": "code",
      "source": [
        "clf_labelP_model = get_model_metrics(LogisticRegression(),LabelPowerset,X_train,y_train,X_test,y_test)"
      ],
      "metadata": {
        "id": "H4qOmi54NAi6",
        "colab": {
          "base_uri": "https://localhost:8080/"
        },
        "outputId": "21487e22-5a80-4257-c6f4-fd3cca8c6405"
      },
      "execution_count": 36,
      "outputs": [
        {
          "output_type": "stream",
          "name": "stderr",
          "text": [
            "/usr/local/lib/python3.9/dist-packages/sklearn/linear_model/_logistic.py:458: ConvergenceWarning: lbfgs failed to converge (status=1):\n",
            "STOP: TOTAL NO. of ITERATIONS REACHED LIMIT.\n",
            "\n",
            "Increase the number of iterations (max_iter) or scale the data as shown in:\n",
            "    https://scikit-learn.org/stable/modules/preprocessing.html\n",
            "Please also refer to the documentation for alternative solver options:\n",
            "    https://scikit-learn.org/stable/modules/linear_model.html#logistic-regression\n",
            "  n_iter_i = _check_optimize_result(\n"
          ]
        }
      ]
    },
    {
      "cell_type": "code",
      "source": [
        "clf_labelP_model"
      ],
      "metadata": {
        "id": "3qPFOxltNKg9",
        "colab": {
          "base_uri": "https://localhost:8080/"
        },
        "outputId": "07e7931e-c625-4372-e078-1a85f490c85d"
      },
      "execution_count": 37,
      "outputs": [
        {
          "output_type": "execute_result",
          "data": {
            "text/plain": [
              "{'accuracy:': 0.917550969251337, 'hamming_score': 0.02067318404634581}"
            ]
          },
          "metadata": {},
          "execution_count": 37
        }
      ]
    },
    {
      "cell_type": "markdown",
      "source": [
        "#### Test to validate the prediction"
      ],
      "metadata": {
        "id": "5ZFjWPxhNPIE"
      }
    },
    {
      "cell_type": "code",
      "source": [
        "# Identify the index of a clean and a toxic comment to test\n",
        "CLEAN = 2\n",
        "TOXIC = 19191"
      ],
      "metadata": {
        "id": "mVbuhnBRYFms"
      },
      "execution_count": 38,
      "outputs": []
    },
    {
      "cell_type": "code",
      "source": [
        "# Take a clean comment\n",
        "comment_clean = df['comment_text'].iloc[CLEAN]\n",
        "comment_clean"
      ],
      "metadata": {
        "id": "9ebVpIE4NSni",
        "colab": {
          "base_uri": "https://localhost:8080/",
          "height": 53
        },
        "outputId": "76f5f651-4c31-4d3b-d12d-145436e6787e"
      },
      "execution_count": 39,
      "outputs": [
        {
          "output_type": "execute_result",
          "data": {
            "text/plain": [
              "\"Hey man, I'm really not trying to edit war. It's just that this guy is constantly removing relevant information and talking to me through edits instead of my talk page. He seems to care more about the formatting than the actual info.\""
            ],
            "application/vnd.google.colaboratory.intrinsic+json": {
              "type": "string"
            }
          },
          "metadata": {},
          "execution_count": 39
        }
      ]
    },
    {
      "cell_type": "code",
      "source": [
        "# take a toxic comment\n",
        "comment_toxic = df['comment_text'].iloc[TOXIC]\n",
        "comment_toxic"
      ],
      "metadata": {
        "colab": {
          "base_uri": "https://localhost:8080/",
          "height": 36
        },
        "id": "yxBWgha2Ye4y",
        "outputId": "1b3d4e3c-c281-4366-c11c-db8e0819755a"
      },
      "execution_count": 40,
      "outputs": [
        {
          "output_type": "execute_result",
          "data": {
            "text/plain": [
              "'Did you know... \\n\\n... that you are an ugly piece of shit?\\n\\nSerious question.'"
            ],
            "application/vnd.google.colaboratory.intrinsic+json": {
              "type": "string"
            }
          },
          "metadata": {},
          "execution_count": 40
        }
      ]
    },
    {
      "cell_type": "code",
      "source": [
        "# Output of clean comment\n",
        "df[df.columns[2:]].iloc[CLEAN]"
      ],
      "metadata": {
        "colab": {
          "base_uri": "https://localhost:8080/"
        },
        "id": "DPuUg_UkY_jl",
        "outputId": "bd4c0f83-aa8b-4068-ac96-2e4faecb1b3f"
      },
      "execution_count": 41,
      "outputs": [
        {
          "output_type": "execute_result",
          "data": {
            "text/plain": [
              "toxic            0\n",
              "severe_toxic     0\n",
              "obscene          0\n",
              "threat           0\n",
              "insult           0\n",
              "identity_hate    0\n",
              "Name: 2, dtype: int64"
            ]
          },
          "metadata": {},
          "execution_count": 41
        }
      ]
    },
    {
      "cell_type": "code",
      "source": [
        "# Output of toxic comment\n",
        "df[df.columns[2:]].iloc[TOXIC]"
      ],
      "metadata": {
        "colab": {
          "base_uri": "https://localhost:8080/"
        },
        "id": "TmZ8vbkjn2qn",
        "outputId": "5cec1e83-c9d4-4ae1-d3a8-f8278563c721"
      },
      "execution_count": 42,
      "outputs": [
        {
          "output_type": "execute_result",
          "data": {
            "text/plain": [
              "toxic            1\n",
              "severe_toxic     0\n",
              "obscene          1\n",
              "threat           0\n",
              "insult           1\n",
              "identity_hate    0\n",
              "Name: 19191, dtype: int64"
            ]
          },
          "metadata": {},
          "execution_count": 42
        }
      ]
    },
    {
      "cell_type": "code",
      "source": [
        "# Vectorized  clean comment\n",
        "vec_clean = tfidf.transform([comment_clean])"
      ],
      "metadata": {
        "id": "8KnFHGsaNX_j"
      },
      "execution_count": 43,
      "outputs": []
    },
    {
      "cell_type": "code",
      "source": [
        "# Vectorized Toxic comment\n",
        "vec_toxic= tfidf.transform([comment_toxic])"
      ],
      "metadata": {
        "id": "cmE0bgVLmYsg"
      },
      "execution_count": 44,
      "outputs": []
    },
    {
      "cell_type": "code",
      "source": [
        "# Predict for clean comment\n",
        "binary_rel_clf.predict(vec_clean).toarray()"
      ],
      "metadata": {
        "id": "UnDryWLmNb2a",
        "colab": {
          "base_uri": "https://localhost:8080/"
        },
        "outputId": "5b29475b-21e3-4f6e-f67f-a97d11bcaa36"
      },
      "execution_count": 45,
      "outputs": [
        {
          "output_type": "execute_result",
          "data": {
            "text/plain": [
              "array([[0, 0, 0, 0, 0, 0]])"
            ]
          },
          "metadata": {},
          "execution_count": 45
        }
      ]
    },
    {
      "cell_type": "code",
      "source": [
        "# Predict for toxic comment\n",
        "binary_rel_clf.predict(vec_toxic).toarray()"
      ],
      "metadata": {
        "colab": {
          "base_uri": "https://localhost:8080/"
        },
        "id": "m-QJWafTlp9c",
        "outputId": "bb955561-c498-4a37-ba88-46b91f4603cb"
      },
      "execution_count": 46,
      "outputs": [
        {
          "output_type": "execute_result",
          "data": {
            "text/plain": [
              "array([[1, 0, 1, 0, 1, 0]])"
            ]
          },
          "metadata": {},
          "execution_count": 46
        }
      ]
    },
    {
      "cell_type": "markdown",
      "source": [
        "### Hence we observe that it correctly predicts the clean and toxic comments. Hence our classifier is ready."
      ],
      "metadata": {
        "id": "BikMuXreZshk"
      }
    },
    {
      "cell_type": "markdown",
      "source": [
        "#### Save the Toxic Comment Classifier for creating API and REST End points and validate them"
      ],
      "metadata": {
        "id": "UFslmjZDNinc"
      }
    },
    {
      "cell_type": "code",
      "source": [
        "# Import the pickle library for persisting and loading saved models and tf_idf\n",
        "import pickle"
      ],
      "metadata": {
        "id": "APB1lyQqPnXe"
      },
      "execution_count": 47,
      "outputs": []
    },
    {
      "cell_type": "code",
      "source": [
        "# save the model as a file\n",
        "model_filename = 'toxic_comments_classifier.sav'\n",
        "pickle.dump(binary_rel_clf, open(model_filename, 'wb'))"
      ],
      "metadata": {
        "id": "xjrUgYlfPlX4"
      },
      "execution_count": 49,
      "outputs": []
    },
    {
      "cell_type": "code",
      "source": [
        "# Save the tf_idf as a file\n",
        "tf_idf_filename = 'toxic_comments_tfidf_vectorizer.sav'\n",
        "pickle.dump(tfidf, open(tf_idf_filename, 'wb'))"
      ],
      "metadata": {
        "id": "BoN-WaP6QALD"
      },
      "execution_count": 51,
      "outputs": []
    },
    {
      "cell_type": "code",
      "source": [
        "# Let us try a sample comment\n",
        "sample_comment = \"Hey you look ugly\""
      ],
      "metadata": {
        "id": "a7-fZ35rX1W0"
      },
      "execution_count": 65,
      "outputs": []
    },
    {
      "cell_type": "code",
      "source": [
        "# load the saved model from disk\n",
        "loaded_model = pickle.load(open(model_filename, 'rb'))"
      ],
      "metadata": {
        "id": "38Cxh9uqXNee"
      },
      "execution_count": 66,
      "outputs": []
    },
    {
      "cell_type": "code",
      "source": [
        "# load the saved tf_idf from disk\n",
        "tf_idf = pickle.load(open(tf_idf_filename, 'rb'))"
      ],
      "metadata": {
        "id": "vZRJ7YaTXSqQ"
      },
      "execution_count": 67,
      "outputs": []
    },
    {
      "cell_type": "code",
      "source": [
        "# Test from the saved tf_idf and model\n",
        "vectorized_comment = tf_idf.transform([sample_comment])"
      ],
      "metadata": {
        "id": "pJKydbe3XXOa"
      },
      "execution_count": 68,
      "outputs": []
    },
    {
      "cell_type": "code",
      "source": [
        "# Classify the topic for the complaint\n",
        "loaded_model.predict(vectorized_comment).toarray()"
      ],
      "metadata": {
        "colab": {
          "base_uri": "https://localhost:8080/"
        },
        "id": "zV4xg_jPXbF9",
        "outputId": "92f47642-eb8f-4da5-cb26-9d9cd08d1441"
      },
      "execution_count": 69,
      "outputs": [
        {
          "output_type": "execute_result",
          "data": {
            "text/plain": [
              "array([[1, 0, 0, 0, 1, 0]])"
            ]
          },
          "metadata": {},
          "execution_count": 69
        }
      ]
    },
    {
      "cell_type": "markdown",
      "source": [
        "The saved classifier and vectorizer can be used for creating an API and REST Service to classify any toxic comments and implement in any Desktop, Web or Mobile applications."
      ],
      "metadata": {
        "id": "Jojyjaqueb8T"
      }
    }
  ]
}